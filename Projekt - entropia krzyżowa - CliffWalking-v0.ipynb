{
  "nbformat": 4,
  "nbformat_minor": 0,
  "metadata": {
    "colab": {
      "name": "projekt_7_entropia_krzyżowa_Mateusz_Sikora(1)(1)(1).ipynb",
      "provenance": [],
      "collapsed_sections": []
    },
    "kernelspec": {
      "name": "python3",
      "display_name": "Python 3"
    },
    "language_info": {
      "name": "python"
    }
  },
  "cells": [
    {
      "cell_type": "markdown",
      "metadata": {
        "id": "7aJ8xq6K0oKZ"
      },
      "source": [
        "TEMAT 7.\n",
        "ENTROPIA KRZYŻOWA – rozwiązanie metodą tabelarycznej entropii krzyżowej problemu ze \n",
        "środowiska CliffWalking-v0\n",
        "\n",
        "Zasady:\n",
        "\n",
        "Postać zaczyna w lewym dolnym rogu\n",
        "\n",
        "Celem postaci jest dotarcie do punktu T, ktory jest w prawym dolnym rogu\n",
        "\n",
        "Pomiędzy punktem początkowym, a T jest klif, wejście na klif powoduje śmierć postaci(powrót do miejsca początkowego)\n",
        "\n",
        "Postać może poruszać się tylko w lewo, prawo, góre i dół\n",
        "\n",
        "Postać nie może poruszać się na ukos\n",
        "\n",
        "Wejście na klif powoduje utrate 100 punktów, a każdy inny ruch powoduje utrate 1 punktu"
      ]
    },
    {
      "cell_type": "code",
      "metadata": {
        "id": "VsBTU9DquT8t"
      },
      "source": [
        "import numpy as np #importuje biblioteki\n",
        "import matplotlib.pyplot as plt\n",
        "import gym\n",
        "env = gym.make('CliffWalking-v0')"
      ],
      "execution_count": null,
      "outputs": []
    },
    {
      "cell_type": "code",
      "metadata": {
        "colab": {
          "base_uri": "https://localhost:8080/"
        },
        "id": "0TL5jBCUM2v0",
        "outputId": "6b33faa6-c164-4217-ba72-a303d5f50c96"
      },
      "source": [
        "env.reset()"
      ],
      "execution_count": null,
      "outputs": [
        {
          "output_type": "execute_result",
          "data": {
            "text/plain": [
              "36"
            ]
          },
          "metadata": {
            "tags": []
          },
          "execution_count": 2
        }
      ]
    },
    {
      "cell_type": "code",
      "metadata": {
        "colab": {
          "base_uri": "https://localhost:8080/"
        },
        "id": "hzIV5aXJM2yn",
        "outputId": "aea5733d-4955-4f2f-a470-864feb8581f9"
      },
      "source": [
        "env.render()"
      ],
      "execution_count": null,
      "outputs": [
        {
          "output_type": "stream",
          "text": [
            "o  o  o  o  o  o  o  o  o  o  o  o\n",
            "o  o  o  o  o  o  o  o  o  o  o  o\n",
            "o  o  o  o  o  o  o  o  o  o  o  o\n",
            "x  C  C  C  C  C  C  C  C  C  C  T\n",
            "\n"
          ],
          "name": "stdout"
        }
      ]
    },
    {
      "cell_type": "code",
      "metadata": {
        "id": "gwbtQoJSM21Z",
        "colab": {
          "base_uri": "https://localhost:8080/"
        },
        "outputId": "ef2edb90-dad4-47fc-f826-98b0e14cdd9b"
      },
      "source": [
        "env.action_space #ruchy w prawo, lewo, góra, dół"
      ],
      "execution_count": null,
      "outputs": [
        {
          "output_type": "execute_result",
          "data": {
            "text/plain": [
              "Discrete(4)"
            ]
          },
          "metadata": {
            "tags": []
          },
          "execution_count": 4
        }
      ]
    },
    {
      "cell_type": "code",
      "metadata": {
        "id": "pQ6TPBuWM24Z",
        "colab": {
          "base_uri": "https://localhost:8080/"
        },
        "outputId": "e1c0268f-4ba5-4c24-8963-32f5bcda11ae"
      },
      "source": [
        "env.observation_space #48 miejsc na planszy"
      ],
      "execution_count": null,
      "outputs": [
        {
          "output_type": "execute_result",
          "data": {
            "text/plain": [
              "Discrete(48)"
            ]
          },
          "metadata": {
            "tags": []
          },
          "execution_count": 5
        }
      ]
    },
    {
      "cell_type": "code",
      "metadata": {
        "id": "mD-fu1WlM3FM"
      },
      "source": [
        "n_states = env.observation_space.n\n",
        "n_actions = env.action_space.n"
      ],
      "execution_count": null,
      "outputs": []
    },
    {
      "cell_type": "code",
      "metadata": {
        "id": "iCPIIkd64Ssc"
      },
      "source": [
        "#definiujemy polityke, dzięki której możemy otrzymać największą nagrode\n",
        "\n",
        "def initialize_policy(n_states, n_actions):\n",
        "  \n",
        "    policy = np.zeros(shape=(n_states, n_actions)) +  1/n_actions #tworzy tablice, która na początku jest wypełniona zarami\n",
        "    \n",
        "    return policy\n",
        "\n",
        "policy = initialize_policy(n_states, n_actions)"
      ],
      "execution_count": null,
      "outputs": []
    },
    {
      "cell_type": "code",
      "metadata": {
        "id": "D1ZCJaWb4S0W"
      },
      "source": [
        "def generate_session(env, policy, t_max = 2000):\n",
        "  #t_maxymalna ilość sesji\n",
        "  observations, actions = [], []\n",
        "  total_reward = 0. #zaczynamy z 0 punktami\n",
        "  observation = env.reset()\n",
        "  \n",
        "  for t in range(t_max):\n",
        "    \n",
        "    action = np.random.choice(n_actions, p = policy[observation]) #najpierw wybieramy losowy ruch\n",
        "\n",
        "    new_observation, reward, done, info = env.step(action)\n",
        "\n",
        "    observations.append(observation)\n",
        "    actions.append(action) #wykonuje ruch\n",
        "    total_reward += reward #nadpisuje ilość punktów po wykonaniu ruchu\n",
        "\n",
        "    observation = new_observation #nadpisuje pozycje na którym się znajdujemy\n",
        "    if done: #jeśli rozwiążemy problem kończymy\n",
        "        break\n",
        "\n",
        "  return observations, actions, total_reward #zakończenie wykonywania funkcji i zwraca podane wartości"
      ],
      "execution_count": null,
      "outputs": []
    },
    {
      "cell_type": "code",
      "metadata": {
        "id": "Vk3-k0rs5cmm"
      },
      "source": [
        "def select_elites(observations_batch, actions_batch, total_reward_batch, percentile):\n",
        "\n",
        "    reward_threshold = np.percentile(total_reward_batch, percentile) #wybiera tylko te wyniki, które znajdują się powyżej określonego percyntylu\n",
        "\n",
        "    elite_observations = []\n",
        "    elite_actions = []\n",
        "\n",
        "    for i in range(len(total_reward_batch)): #jeśli określony wynik będzie powyżej progu, to bierzemy go pod uwagę\n",
        "      if total_reward_batch[i] >= reward_threshold: #próg reward_threshold jest zależny od percyntylu\n",
        "        elite_observations += (observations_batch[i])\n",
        "        elite_actions += (actions_batch[i])\n",
        "        \n",
        "    return elite_observations, elite_actions #zakończenie wykonywania funkcji i zwraca podane wartości"
      ],
      "execution_count": null,
      "outputs": []
    },
    {
      "cell_type": "code",
      "metadata": {
        "id": "zh_PM1Su5cvN"
      },
      "source": [
        "#aktualizujemy polityke, tak by znalazły się w niej tylko elitarne wyniki\n",
        "\n",
        "def update_policy(elite_observations, elite_actions):\n",
        "\n",
        "    policy_updated = policy\n",
        "\n",
        "    elite_observations_unique = set(elite_observations)\n",
        "    \n",
        "    actions_count = {observation:[0] * n_actions for observation in elite_observations_unique}\n",
        "\n",
        "    for observation, action in zip(elite_observations, elite_actions):\n",
        "        actions_count[observation][action] += 1\n",
        "           \n",
        "    for observation in elite_observations_unique:\n",
        "        policy_updated[observation] = np.array(actions_count[observation]) / np.sum(actions_count[observation])\n",
        "\n",
        "    return policy_updated #zakończenie wykonywania funkcji i zwraca podane wartości"
      ],
      "execution_count": null,
      "outputs": []
    },
    {
      "cell_type": "code",
      "metadata": {
        "id": "qzw-h7Y85wIJ"
      },
      "source": [
        "#zakładamy sposób ewaluacji problemu (ustalenie, czy projekt osiągnął zakładane cele)\n",
        "\n",
        "from IPython.display import clear_output #importujemy biblioteke, żeby móc wyświetlić funkcje\n",
        "\n",
        "def show_progress(rewards_batch, log, percentile): #wizualizacja treningu\n",
        "\n",
        "    mean_reward = np.mean(rewards_batch) #wynik\n",
        "    threshold = np.percentile(rewards_batch, percentile) #wynik biorąc pod uwagę tylko elite\n",
        "    log.append([mean_reward, threshold])\n",
        "    \n",
        "    plt.figure(figsize=[8, 4]) #rozmiar wykresu\n",
        "    plt.plot(list(zip(*log))[0], label='Mean rewards') #określamy fukcje, która będzie pokazywać średnie nagrody, w miare nauki\n",
        "    plt.plot(list(zip(*log))[1], label='Reward thresholds') #określamy fukcje, która będzie pokazywać progi nagród, w miare nauki\n",
        "    plt.legend() #pokazuje legende\n",
        "    plt.grid() #pokazuje krate\n",
        "\n",
        "    clear_output(True) #wyczyszczenie danych\n",
        "    print(\"mean reward = \", mean_reward)\n",
        "    print(\"treshold = \", threshold)\n",
        "    plt.show()"
      ],
      "execution_count": null,
      "outputs": []
    },
    {
      "cell_type": "code",
      "metadata": {
        "id": "v0MG4TYc5wK2"
      },
      "source": [
        "policy = initialize_policy(n_states, n_actions)"
      ],
      "execution_count": null,
      "outputs": []
    },
    {
      "cell_type": "code",
      "metadata": {
        "colab": {
          "base_uri": "https://localhost:8080/",
          "height": 301
        },
        "id": "zkpk9YPA5wN_",
        "outputId": "a21255fc-7f60-4538-8349-ff2b7ee7b43f"
      },
      "source": [
        "#wyznaczamy hiperparamatry:\n",
        "n_sessions = 250 #ilość sesji\n",
        "percentile = 80 \n",
        "learning_rate = 0.5 #szybkość uczenia\n",
        "\n",
        "log = []\n",
        "\n",
        "for i in range(30): #główna pętla w której wykonywane są wszystkie oblicznia/wykonujemy trening algorytmu\n",
        "    sessions = [generate_session(env, policy, t_max=5000) for j in range(n_sessions)]\n",
        "    \n",
        "    observations_batch, actions_batch, total_reward_batch = zip(*sessions)\n",
        "\n",
        "    elite_observations, elite_actions = select_elites(observations_batch, actions_batch, total_reward_batch, percentile)\n",
        "\n",
        "    policy_updated = update_policy(elite_observations, elite_actions) #aktualizujemy polityke\n",
        "\n",
        "    policy = learning_rate * policy_updated + (1 - learning_rate) * policy\n",
        "\n",
        "    show_progress(total_reward_batch, log, percentile) #wizualizacja treningu"
      ],
      "execution_count": null,
      "outputs": [
        {
          "output_type": "stream",
          "text": [
            "mean reward =  -13.0\n",
            "treshold =  -13.0\n"
          ],
          "name": "stdout"
        },
        {
          "output_type": "display_data",
          "data": {
            "image/png": "[encoded data removed]",
            "text/plain": [
              "<Figure size 576x288 with 1 Axes>"
            ]
          },
          "metadata": {
            "tags": [],
            "needs_background": "light"
          }
        }
      ]
    },
    {
      "cell_type": "code",
      "metadata": {
        "colab": {
          "base_uri": "https://localhost:8080/"
        },
        "id": "bySdviq45wQr",
        "outputId": "03646d9f-342e-403c-d3a9-286494ec5400"
      },
      "source": [
        "print(policy)"
      ],
      "execution_count": null,
      "outputs": [
        {
          "output_type": "stream",
          "text": [
            "[[0.         0.75       0.25       0.        ]\n",
            " [0.         1.         0.         0.        ]\n",
            " [0.         1.         0.         0.        ]\n",
            " [0.18181818 0.81818182 0.         0.        ]\n",
            " [0.         0.64285714 0.35714286 0.        ]\n",
            " [0.         0.72727273 0.18181818 0.09090909]\n",
            " [0.         0.9        0.1        0.        ]\n",
            " [0.         0.81818182 0.18181818 0.        ]\n",
            " [0.125      0.625      0.25       0.        ]\n",
            " [0.09090909 0.54545455 0.36363636 0.        ]\n",
            " [0.125      0.875      0.         0.        ]\n",
            " [0.         0.         1.         0.        ]\n",
            " [0.         1.         0.         0.        ]\n",
            " [0.         1.         0.         0.        ]\n",
            " [0.         0.92307692 0.07692308 0.        ]\n",
            " [0.         0.75       0.25       0.        ]\n",
            " [0.         0.88888889 0.11111111 0.        ]\n",
            " [0.         0.5        0.5        0.        ]\n",
            " [0.         1.         0.         0.        ]\n",
            " [0.         1.         0.         0.        ]\n",
            " [0.         0.94117647 0.05882353 0.        ]\n",
            " [0.         0.75       0.25       0.        ]\n",
            " [0.         0.66666667 0.33333333 0.        ]\n",
            " [0.         0.         1.         0.        ]\n",
            " [0.         1.         0.         0.        ]\n",
            " [0.         1.         0.         0.        ]\n",
            " [0.         1.         0.         0.        ]\n",
            " [0.         1.         0.         0.        ]\n",
            " [0.         1.         0.         0.        ]\n",
            " [0.         1.         0.         0.        ]\n",
            " [0.         1.         0.         0.        ]\n",
            " [0.         1.         0.         0.        ]\n",
            " [0.         1.         0.         0.        ]\n",
            " [0.         1.         0.         0.        ]\n",
            " [0.         1.         0.         0.        ]\n",
            " [0.         0.         1.         0.        ]\n",
            " [1.         0.         0.         0.        ]\n",
            " [0.25       0.25       0.25       0.25      ]\n",
            " [0.25       0.25       0.25       0.25      ]\n",
            " [0.25       0.25       0.25       0.25      ]\n",
            " [0.25       0.25       0.25       0.25      ]\n",
            " [0.25       0.25       0.25       0.25      ]\n",
            " [0.25       0.25       0.25       0.25      ]\n",
            " [0.25       0.25       0.25       0.25      ]\n",
            " [0.25       0.25       0.25       0.25      ]\n",
            " [0.25       0.25       0.25       0.25      ]\n",
            " [0.25       0.25       0.25       0.25      ]\n",
            " [0.25       0.25       0.25       0.25      ]]\n"
          ],
          "name": "stdout"
        }
      ]
    },
    {
      "cell_type": "code",
      "metadata": {
        "colab": {
          "base_uri": "https://localhost:8080/"
        },
        "id": "AYlfOHfL5wS6",
        "outputId": "5b0cd908-4568-436d-d531-e5c61c83adaf"
      },
      "source": [
        "total_reward = 0. #zaczynamy z 0 punktami\n",
        "observation = env.reset()\n",
        "\n",
        "for t in range(30): #ile maksymalnie możemy wykonać ruchów\n",
        "\n",
        "  action = np.random.choice(n_actions, p = policy[observation]) #wykonanie ruchu zgodnie z polityką\n",
        "  \n",
        "  new_observation, reward, done, info = env.step(action)\n",
        "\n",
        "  observation = new_observation #nadpisuje pozycje na którym się znajdujemy\n",
        "\n",
        "  total_reward += reward #aktualizauje ilość punktów\n",
        "\n",
        "  print(t, total_reward, done)\n",
        "  env.render()\n",
        "  if done:\n",
        "    break #jeśli program dotrze do celu kończymy pętle"
      ],
      "execution_count": null,
      "outputs": [
        {
          "output_type": "stream",
          "text": [
            "0 -1.0 False\n",
            "o  o  o  o  o  o  o  o  o  o  o  o\n",
            "o  o  o  o  o  o  o  o  o  o  o  o\n",
            "x  o  o  o  o  o  o  o  o  o  o  o\n",
            "o  C  C  C  C  C  C  C  C  C  C  T\n",
            "\n",
            "1 -2.0 False\n",
            "o  o  o  o  o  o  o  o  o  o  o  o\n",
            "o  o  o  o  o  o  o  o  o  o  o  o\n",
            "o  x  o  o  o  o  o  o  o  o  o  o\n",
            "o  C  C  C  C  C  C  C  C  C  C  T\n",
            "\n",
            "2 -3.0 False\n",
            "o  o  o  o  o  o  o  o  o  o  o  o\n",
            "o  o  o  o  o  o  o  o  o  o  o  o\n",
            "o  o  x  o  o  o  o  o  o  o  o  o\n",
            "o  C  C  C  C  C  C  C  C  C  C  T\n",
            "\n",
            "3 -4.0 False\n",
            "o  o  o  o  o  o  o  o  o  o  o  o\n",
            "o  o  o  o  o  o  o  o  o  o  o  o\n",
            "o  o  o  x  o  o  o  o  o  o  o  o\n",
            "o  C  C  C  C  C  C  C  C  C  C  T\n",
            "\n",
            "4 -5.0 False\n",
            "o  o  o  o  o  o  o  o  o  o  o  o\n",
            "o  o  o  o  o  o  o  o  o  o  o  o\n",
            "o  o  o  o  x  o  o  o  o  o  o  o\n",
            "o  C  C  C  C  C  C  C  C  C  C  T\n",
            "\n",
            "5 -6.0 False\n",
            "o  o  o  o  o  o  o  o  o  o  o  o\n",
            "o  o  o  o  o  o  o  o  o  o  o  o\n",
            "o  o  o  o  o  x  o  o  o  o  o  o\n",
            "o  C  C  C  C  C  C  C  C  C  C  T\n",
            "\n",
            "6 -7.0 False\n",
            "o  o  o  o  o  o  o  o  o  o  o  o\n",
            "o  o  o  o  o  o  o  o  o  o  o  o\n",
            "o  o  o  o  o  o  x  o  o  o  o  o\n",
            "o  C  C  C  C  C  C  C  C  C  C  T\n",
            "\n",
            "7 -8.0 False\n",
            "o  o  o  o  o  o  o  o  o  o  o  o\n",
            "o  o  o  o  o  o  o  o  o  o  o  o\n",
            "o  o  o  o  o  o  o  x  o  o  o  o\n",
            "o  C  C  C  C  C  C  C  C  C  C  T\n",
            "\n",
            "8 -9.0 False\n",
            "o  o  o  o  o  o  o  o  o  o  o  o\n",
            "o  o  o  o  o  o  o  o  o  o  o  o\n",
            "o  o  o  o  o  o  o  o  x  o  o  o\n",
            "o  C  C  C  C  C  C  C  C  C  C  T\n",
            "\n",
            "9 -10.0 False\n",
            "o  o  o  o  o  o  o  o  o  o  o  o\n",
            "o  o  o  o  o  o  o  o  o  o  o  o\n",
            "o  o  o  o  o  o  o  o  o  x  o  o\n",
            "o  C  C  C  C  C  C  C  C  C  C  T\n",
            "\n",
            "10 -11.0 False\n",
            "o  o  o  o  o  o  o  o  o  o  o  o\n",
            "o  o  o  o  o  o  o  o  o  o  o  o\n",
            "o  o  o  o  o  o  o  o  o  o  x  o\n",
            "o  C  C  C  C  C  C  C  C  C  C  T\n",
            "\n",
            "11 -12.0 False\n",
            "o  o  o  o  o  o  o  o  o  o  o  o\n",
            "o  o  o  o  o  o  o  o  o  o  o  o\n",
            "o  o  o  o  o  o  o  o  o  o  o  x\n",
            "o  C  C  C  C  C  C  C  C  C  C  T\n",
            "\n",
            "12 -13.0 True\n",
            "o  o  o  o  o  o  o  o  o  o  o  o\n",
            "o  o  o  o  o  o  o  o  o  o  o  o\n",
            "o  o  o  o  o  o  o  o  o  o  o  o\n",
            "o  C  C  C  C  C  C  C  C  C  C  x\n",
            "\n"
          ],
          "name": "stdout"
        }
      ]
    }
  ]
}