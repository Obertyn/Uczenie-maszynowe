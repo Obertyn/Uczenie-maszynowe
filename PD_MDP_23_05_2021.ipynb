{
  "nbformat": 4,
  "nbformat_minor": 0,
  "metadata": {
    "colab": {
      "name": "Untitled3.ipynb",
      "provenance": [],
      "collapsed_sections": []
    },
    "kernelspec": {
      "name": "python3",
      "display_name": "Python 3"
    },
    "language_info": {
      "name": "python"
    }
  },
  "cells": [
    {
      "cell_type": "code",
      "metadata": {
        "id": "V-IqJ-cG7vQi"
      },
      "source": [
        "import numpy as np\n",
        "\n",
        "import sys, os\n",
        "if 'google.colab' in sys.modules and not os.path.exists('.setup_complete'):\n",
        "    !wget -q https://raw.githubusercontent.com/yandexdataschool/Practical_RL/coursera/week2_model_based/mdp.py"
      ],
      "execution_count": 1,
      "outputs": []
    },
    {
      "cell_type": "code",
      "metadata": {
        "id": "ypl5-Lyj71rA"
      },
      "source": [
        "transition_probs = {\n",
        "    's0': {\n",
        "        'a0': {'s0': 0.05, 's1': 0.95},\n",
        "        'a1': {'s0': 1},\n",
        "        'a2': {'s1': 1}\n",
        "    },\n",
        "    's1': {\n",
        "        'a0': {'s0': 0.5, 's1': 0.5},\n",
        "        'a1': {'s1': 1}\n",
        "    },\n",
        "}\n",
        "rewards = {\n",
        "    's0': {'a0': {'s0': +5}},\n",
        "    's1': {'a0': {'s0': +5}},\n",
        "    's1': {'a0': {'s1': +5}},\n",
        "\n",
        "    's0': {'a1': {'s0': +1}},\n",
        "    's1': {'a1': {'s1': +1}},\n",
        "\n",
        "    's0': {'a0': {'s1': -100}},\n",
        "    's0': {'a2': {'s1': +0.5}},\n",
        "}\n",
        "\n",
        "from mdp import MDP\n",
        "mdp = MDP(transition_probs, rewards, initial_state='s0')"
      ],
      "execution_count": 2,
      "outputs": []
    },
    {
      "cell_type": "code",
      "metadata": {
        "colab": {
          "base_uri": "https://localhost:8080/",
          "height": 36
        },
        "id": "4cfKAMe271yO",
        "outputId": "27a7e19c-c285-4171-f8a8-c54d5d06fbd1"
      },
      "source": [
        "mdp.reset()"
      ],
      "execution_count": 3,
      "outputs": [
        {
          "output_type": "execute_result",
          "data": {
            "application/vnd.google.colaboratory.intrinsic+json": {
              "type": "string"
            },
            "text/plain": [
              "'s0'"
            ]
          },
          "metadata": {
            "tags": []
          },
          "execution_count": 3
        }
      ]
    },
    {
      "cell_type": "code",
      "metadata": {
        "colab": {
          "base_uri": "https://localhost:8080/"
        },
        "id": "hfdl0WQtSQiv",
        "outputId": "845fc1f7-4b6d-4185-c5e7-3417f694dc4d"
      },
      "source": [
        "next_state, reward, done, info = mdp.step('a1')\n",
        "print(next_state, reward, done, info)"
      ],
      "execution_count": 4,
      "outputs": [
        {
          "output_type": "stream",
          "text": [
            "s0 0.0 False {}\n"
          ],
          "name": "stdout"
        }
      ]
    },
    {
      "cell_type": "code",
      "metadata": {
        "colab": {
          "base_uri": "https://localhost:8080/"
        },
        "id": "3gyHiA_6SZSd",
        "outputId": "e8421945-1228-4ea5-f193-16c3e0fc478c"
      },
      "source": [
        "mdp.get_all_states()"
      ],
      "execution_count": 5,
      "outputs": [
        {
          "output_type": "execute_result",
          "data": {
            "text/plain": [
              "('s0', 's1')"
            ]
          },
          "metadata": {
            "tags": []
          },
          "execution_count": 5
        }
      ]
    },
    {
      "cell_type": "code",
      "metadata": {
        "colab": {
          "base_uri": "https://localhost:8080/"
        },
        "id": "Qxir6W8jSZU6",
        "outputId": "4222d38e-5bba-457d-b8f9-3492a531f700"
      },
      "source": [
        "mdp.get_possible_actions('s1')"
      ],
      "execution_count": 6,
      "outputs": [
        {
          "output_type": "execute_result",
          "data": {
            "text/plain": [
              "('a0', 'a1')"
            ]
          },
          "metadata": {
            "tags": []
          },
          "execution_count": 6
        }
      ]
    },
    {
      "cell_type": "code",
      "metadata": {
        "colab": {
          "base_uri": "https://localhost:8080/"
        },
        "id": "fFjYc2LBSZYO",
        "outputId": "b131454a-8d4c-406e-b7b0-f7b7986c9f20"
      },
      "source": [
        "mdp.get_next_states('s1', 'a0')"
      ],
      "execution_count": 7,
      "outputs": [
        {
          "output_type": "execute_result",
          "data": {
            "text/plain": [
              "{'s0': 0.5, 's1': 0.5}"
            ]
          },
          "metadata": {
            "tags": []
          },
          "execution_count": 7
        }
      ]
    },
    {
      "cell_type": "code",
      "metadata": {
        "colab": {
          "base_uri": "https://localhost:8080/"
        },
        "id": "KVzNaXJlSZeN",
        "outputId": "b59787fe-daa1-403b-a3c9-826dc3efd131"
      },
      "source": [
        "mdp.get_transition_prob('s1', 'a0', 's0')"
      ],
      "execution_count": 8,
      "outputs": [
        {
          "output_type": "execute_result",
          "data": {
            "text/plain": [
              "0.5"
            ]
          },
          "metadata": {
            "tags": []
          },
          "execution_count": 8
        }
      ]
    },
    {
      "cell_type": "code",
      "metadata": {
        "colab": {
          "base_uri": "https://localhost:8080/",
          "height": 337
        },
        "id": "3Bfvxua7SZhV",
        "outputId": "c24a1938-8b14-4874-bfc1-a3e897677855"
      },
      "source": [
        "from mdp import has_graphviz\n",
        "from IPython.display import display\n",
        "\n",
        "if has_graphviz:\n",
        "    from mdp import plot_graph\n",
        "    display(plot_graph(mdp))"
      ],
      "execution_count": 9,
      "outputs": [
        {
          "output_type": "display_data",
          "data": {
            "text/plain": [
              "<graphviz.dot.Digraph at 0x7f58348b6510>"
            ],
            "image/svg+xml": "<?xml version=\"1.0\" encoding=\"UTF-8\" standalone=\"no\"?>\n<!DOCTYPE svg PUBLIC \"-//W3C//DTD SVG 1.1//EN\"\n \"http://www.w3.org/Graphics/SVG/1.1/DTD/svg11.dtd\">\n<!-- Generated by graphviz version 2.40.1 (20161225.0304)\n -->\n<!-- Title: MDP Pages: 1 -->\n<svg width=\"692pt\" height=\"237pt\"\n viewBox=\"0.00 0.00 692.31 237.02\" xmlns=\"http://www.w3.org/2000/svg\" xmlns:xlink=\"http://www.w3.org/1999/xlink\">\n<g id=\"graph0\" class=\"graph\" transform=\"scale(1 1) rotate(0) translate(4 233.0214)\">\n<title>MDP</title>\n<polygon fill=\"#ffffff\" stroke=\"transparent\" points=\"-4,4 -4,-233.0214 688.3087,-233.0214 688.3087,4 -4,4\"/>\n<!-- s0 -->\n<g id=\"node1\" class=\"node\">\n<title>s0</title>\n<ellipse fill=\"#85ff75\" stroke=\"#85ff75\" cx=\"40\" cy=\"-112.4442\" rx=\"36\" ry=\"36\"/>\n<ellipse fill=\"none\" stroke=\"#85ff75\" cx=\"40\" cy=\"-112.4442\" rx=\"40\" ry=\"40\"/>\n<text text-anchor=\"middle\" x=\"40\" y=\"-106.2442\" font-family=\"Arial\" font-size=\"24.00\" fill=\"#000000\">s0</text>\n</g>\n<!-- s0&#45;a0 -->\n<g id=\"node2\" class=\"node\">\n<title>s0&#45;a0</title>\n<ellipse fill=\"#ffb6c1\" stroke=\"#ffb6c1\" cx=\"202.5772\" cy=\"-201.4442\" rx=\"27.6545\" ry=\"27.6545\"/>\n<text text-anchor=\"middle\" x=\"202.5772\" y=\"-196.4442\" font-family=\"Arial\" font-size=\"20.00\" fill=\"#000000\">a0</text>\n</g>\n<!-- s0&#45;&gt;s0&#45;a0 -->\n<g id=\"edge1\" class=\"edge\">\n<title>s0&#45;&gt;s0&#45;a0</title>\n<path fill=\"none\" stroke=\"#ff0000\" stroke-width=\"2\" d=\"M59.3862,-147.6592C69.0934,-161.9851 82.1733,-177.2931 98,-186.4442 118.1035,-198.0682 143.9012,-201.8635 164.8435,-202.7305\"/>\n<polygon fill=\"#ff0000\" stroke=\"#ff0000\" stroke-width=\"2\" points=\"164.9204,-206.2328 174.9915,-202.9428 165.0669,-199.2343 164.9204,-206.2328\"/>\n</g>\n<!-- s0&#45;a1 -->\n<g id=\"node4\" class=\"node\">\n<title>s0&#45;a1</title>\n<ellipse fill=\"#ffb6c1\" stroke=\"#ffb6c1\" cx=\"202.5772\" cy=\"-128.4442\" rx=\"27.6545\" ry=\"27.6545\"/>\n<text text-anchor=\"middle\" x=\"202.5772\" y=\"-123.4442\" font-family=\"Arial\" font-size=\"20.00\" fill=\"#000000\">a1</text>\n</g>\n<!-- s0&#45;&gt;s0&#45;a1 -->\n<g id=\"edge4\" class=\"edge\">\n<title>s0&#45;&gt;s0&#45;a1</title>\n<path fill=\"none\" stroke=\"#ff0000\" stroke-width=\"2\" d=\"M80.1876,-116.3993C106.1379,-118.9532 139.6719,-122.2534 165.0745,-124.7534\"/>\n<polygon fill=\"#ff0000\" stroke=\"#ff0000\" stroke-width=\"2\" points=\"164.7753,-128.2408 175.07,-125.7371 165.4609,-121.2744 164.7753,-128.2408\"/>\n</g>\n<!-- s0&#45;a2 -->\n<g id=\"node5\" class=\"node\">\n<title>s0&#45;a2</title>\n<ellipse fill=\"#ffb6c1\" stroke=\"#ffb6c1\" cx=\"202.5772\" cy=\"-55.4442\" rx=\"27.6545\" ry=\"27.6545\"/>\n<text text-anchor=\"middle\" x=\"202.5772\" y=\"-50.4442\" font-family=\"Arial\" font-size=\"20.00\" fill=\"#000000\">a2</text>\n</g>\n<!-- s0&#45;&gt;s0&#45;a2 -->\n<g id=\"edge6\" class=\"edge\">\n<title>s0&#45;&gt;s0&#45;a2</title>\n<path fill=\"none\" stroke=\"#ff0000\" stroke-width=\"2\" d=\"M77.308,-97.2482C84.1613,-94.5713 91.2742,-91.8684 98,-89.4442 120.5857,-81.3037 146.2168,-72.9566 166.4514,-66.5701\"/>\n<polygon fill=\"#ff0000\" stroke=\"#ff0000\" stroke-width=\"2\" points=\"167.71,-69.8435 176.2044,-63.5115 165.6153,-63.1643 167.71,-69.8435\"/>\n</g>\n<!-- s0&#45;a0&#45;&gt;s0 -->\n<g id=\"edge2\" class=\"edge\">\n<title>s0&#45;a0&#45;&gt;s0</title>\n<path fill=\"none\" stroke=\"#0000ff\" stroke-dasharray=\"5,2\" d=\"M182.1094,-182.9059C174.5436,-176.5831 165.6885,-169.7719 157,-164.4442 144.414,-156.7266 113.3868,-143.017 86.4455,-131.6119\"/>\n<polygon fill=\"#0000ff\" stroke=\"#0000ff\" points=\"87.698,-128.3417 77.1234,-127.6875 84.982,-134.7934 87.698,-128.3417\"/>\n<text text-anchor=\"middle\" x=\"127.5\" y=\"-169.6442\" font-family=\"Arial\" font-size=\"16.00\" fill=\"#000000\">p = 0.05</text>\n</g>\n<!-- s1 -->\n<g id=\"node3\" class=\"node\">\n<title>s1</title>\n<ellipse fill=\"#85ff75\" stroke=\"#85ff75\" cx=\"436.1543\" cy=\"-78.4442\" rx=\"36\" ry=\"36\"/>\n<ellipse fill=\"none\" stroke=\"#85ff75\" cx=\"436.1543\" cy=\"-78.4442\" rx=\"40\" ry=\"40\"/>\n<text text-anchor=\"middle\" x=\"436.1543\" y=\"-72.2442\" font-family=\"Arial\" font-size=\"24.00\" fill=\"#000000\">s1</text>\n</g>\n<!-- s0&#45;a0&#45;&gt;s1 -->\n<g id=\"edge3\" class=\"edge\">\n<title>s0&#45;a0&#45;&gt;s1</title>\n<path fill=\"none\" stroke=\"#0000ff\" stroke-dasharray=\"5,2\" d=\"M227.1325,-188.5135C266.0857,-168.0011 342.6231,-127.6971 391.4849,-101.9668\"/>\n<polygon fill=\"#0000ff\" stroke=\"#0000ff\" points=\"393.3524,-104.9391 400.5698,-97.1828 390.0908,-98.7453 393.3524,-104.9391\"/>\n<text text-anchor=\"middle\" x=\"313.1543\" y=\"-179.6442\" font-family=\"Arial\" font-size=\"16.00\" fill=\"#000000\">p = 0.95</text>\n</g>\n<!-- s1&#45;a0 -->\n<g id=\"node6\" class=\"node\">\n<title>s1&#45;a0</title>\n<ellipse fill=\"#ffb6c1\" stroke=\"#ffb6c1\" cx=\"656.7315\" cy=\"-32.4442\" rx=\"27.6545\" ry=\"27.6545\"/>\n<text text-anchor=\"middle\" x=\"656.7315\" y=\"-27.4442\" font-family=\"Arial\" font-size=\"20.00\" fill=\"#000000\">a0</text>\n</g>\n<!-- s1&#45;&gt;s1&#45;a0 -->\n<g id=\"edge8\" class=\"edge\">\n<title>s1&#45;&gt;s1&#45;a0</title>\n<path fill=\"none\" stroke=\"#ff0000\" stroke-width=\"2\" d=\"M476.3559,-75.0302C512.2097,-71.3304 565.8748,-64.1721 611.1543,-51.4442 614.7495,-50.4336 618.4409,-49.2168 622.0916,-47.8932\"/>\n<polygon fill=\"#ff0000\" stroke=\"#ff0000\" stroke-width=\"2\" points=\"623.515,-51.0951 631.5663,-44.2085 620.9777,-44.5711 623.515,-51.0951\"/>\n</g>\n<!-- s1&#45;a1 -->\n<g id=\"node7\" class=\"node\">\n<title>s1&#45;a1</title>\n<ellipse fill=\"#ffb6c1\" stroke=\"#ffb6c1\" cx=\"656.7315\" cy=\"-114.4442\" rx=\"27.6545\" ry=\"27.6545\"/>\n<text text-anchor=\"middle\" x=\"656.7315\" y=\"-109.4442\" font-family=\"Arial\" font-size=\"20.00\" fill=\"#000000\">a1</text>\n</g>\n<!-- s1&#45;&gt;s1&#45;a1 -->\n<g id=\"edge11\" class=\"edge\">\n<title>s1&#45;&gt;s1&#45;a1</title>\n<path fill=\"none\" stroke=\"#ff0000\" stroke-width=\"2\" d=\"M475.8989,-83.5591C511.4524,-88.3223 564.9337,-95.9504 611.1543,-104.4442 613.9928,-104.9658 616.9238,-105.5359 619.8668,-106.1309\"/>\n<polygon fill=\"#ff0000\" stroke=\"#ff0000\" stroke-width=\"2\" points=\"619.2954,-109.5872 629.801,-108.2154 620.7329,-102.7363 619.2954,-109.5872\"/>\n</g>\n<!-- s0&#45;a1&#45;&gt;s0 -->\n<g id=\"edge5\" class=\"edge\">\n<title>s0&#45;a1&#45;&gt;s0</title>\n<path fill=\"none\" stroke=\"#0000ff\" stroke-dasharray=\"5,2\" d=\"M181.2506,-110.0933C174.0259,-104.9735 165.5972,-100.0909 157,-97.4442 134.8657,-90.6301 109.4549,-92.7636 87.9819,-97.2692\"/>\n<polygon fill=\"#0000ff\" stroke=\"#0000ff\" points=\"87.0542,-93.8914 78.1048,-99.5622 88.6373,-100.7101 87.0542,-93.8914\"/>\n<text text-anchor=\"middle\" x=\"127.5\" y=\"-102.6442\" font-family=\"Arial\" font-size=\"16.00\" fill=\"#000000\">p = 1</text>\n</g>\n<!-- s0&#45;a2&#45;&gt;s1 -->\n<g id=\"edge7\" class=\"edge\">\n<title>s0&#45;a2&#45;&gt;s1</title>\n<path fill=\"none\" stroke=\"#0000ff\" stroke-dasharray=\"5,2\" d=\"M230.2888,-58.1729C268.5671,-61.9422 338.2772,-68.8064 385.8765,-73.4934\"/>\n<polygon fill=\"#0000ff\" stroke=\"#0000ff\" points=\"385.6812,-76.9911 395.9761,-74.4879 386.3672,-70.0247 385.6812,-76.9911\"/>\n<text text-anchor=\"middle\" x=\"313.1543\" y=\"-77.6442\" font-family=\"Arial\" font-size=\"16.00\" fill=\"#000000\">p = 1 &#160;reward =0.5</text>\n</g>\n<!-- s1&#45;a0&#45;&gt;s0 -->\n<g id=\"edge9\" class=\"edge\">\n<title>s1&#45;a0&#45;&gt;s0</title>\n<path fill=\"none\" stroke=\"#0000ff\" stroke-dasharray=\"5,2\" d=\"M631.153,-21.0881C624.7473,-18.7539 617.8031,-16.6438 611.1543,-15.4442 559.9806,-6.2112 546.1538,-15.1998 494.1543,-15.4442 352.3033,-16.1109 311.1936,21.2229 175,-18.4442 137.4773,-29.3729 101.495,-55.4773 76.128,-77.4105\"/>\n<polygon fill=\"#0000ff\" stroke=\"#0000ff\" points=\"73.7789,-74.8156 68.6063,-84.062 78.416,-80.0594 73.7789,-74.8156\"/>\n<text text-anchor=\"middle\" x=\"313.1543\" y=\"-13.6442\" font-family=\"Arial\" font-size=\"16.00\" fill=\"#000000\">p = 0.5</text>\n</g>\n<!-- s1&#45;a0&#45;&gt;s1 -->\n<g id=\"edge10\" class=\"edge\">\n<title>s1&#45;a0&#45;&gt;s1</title>\n<path fill=\"none\" stroke=\"#0000ff\" stroke-dasharray=\"5,2\" d=\"M629.8575,-26.1859C596.7982,-19.7683 539.4887,-12.8578 494.1543,-29.4442 486.0575,-32.4066 478.3119,-37.0538 471.2668,-42.3316\"/>\n<polygon fill=\"#0000ff\" stroke=\"#0000ff\" points=\"468.9062,-39.7394 463.3389,-48.7536 473.3124,-45.1787 468.9062,-39.7394\"/>\n<text text-anchor=\"middle\" x=\"552.6543\" y=\"-34.6442\" font-family=\"Arial\" font-size=\"16.00\" fill=\"#000000\">p = 0.5</text>\n</g>\n<!-- s1&#45;a1&#45;&gt;s1 -->\n<g id=\"edge12\" class=\"edge\">\n<title>s1&#45;a1&#45;&gt;s1</title>\n<path fill=\"none\" stroke=\"#0000ff\" stroke-dasharray=\"5,2\" d=\"M629.0221,-114.7166C596.354,-114.4692 540.6237,-112.2591 494.1543,-101.4442 490.2886,-100.5446 486.3413,-99.4313 482.415,-98.1839\"/>\n<polygon fill=\"#0000ff\" stroke=\"#0000ff\" points=\"483.3515,-94.8046 472.7568,-94.8525 481.069,-101.422 483.3515,-94.8046\"/>\n<text text-anchor=\"middle\" x=\"552.6543\" y=\"-119.6442\" font-family=\"Arial\" font-size=\"16.00\" fill=\"#000000\">p = 1 &#160;reward =1</text>\n</g>\n</g>\n</svg>\n"
          },
          "metadata": {
            "tags": []
          }
        }
      ]
    },
    {
      "cell_type": "code",
      "metadata": {
        "colab": {
          "base_uri": "https://localhost:8080/"
        },
        "id": "V01HUsznSZkM",
        "outputId": "dfe7ff8f-0db4-4dc3-bb21-ae8df1b4f4f1"
      },
      "source": [
        "import random\n",
        "\n",
        "for t in range(200):\n",
        "  actions = ['a0', 'a1']\n",
        "  action = random.choice(actions)\n",
        "  observation, reward, done, info = mdp.step(action)\n",
        "  print(t, observation, reward, done)"
      ],
      "execution_count": 10,
      "outputs": [
        {
          "output_type": "stream",
          "text": [
            "0 s0 0.0 False\n",
            "1 s0 0.0 False\n",
            "2 s1 0.0 False\n",
            "3 s1 0.0 False\n",
            "4 s1 0.0 False\n",
            "5 s1 1 False\n",
            "6 s0 0.0 False\n",
            "7 s1 0.0 False\n",
            "8 s1 1 False\n",
            "9 s1 1 False\n",
            "10 s0 0.0 False\n",
            "11 s0 0.0 False\n",
            "12 s0 0.0 False\n",
            "13 s0 0.0 False\n",
            "14 s1 0.0 False\n",
            "15 s1 1 False\n",
            "16 s0 0.0 False\n",
            "17 s0 0.0 False\n",
            "18 s1 0.0 False\n",
            "19 s0 0.0 False\n",
            "20 s0 0.0 False\n",
            "21 s0 0.0 False\n",
            "22 s1 0.0 False\n",
            "23 s1 1 False\n",
            "24 s1 0.0 False\n",
            "25 s1 1 False\n",
            "26 s1 0.0 False\n",
            "27 s1 1 False\n",
            "28 s1 0.0 False\n",
            "29 s1 0.0 False\n",
            "30 s1 0.0 False\n",
            "31 s1 1 False\n",
            "32 s1 1 False\n",
            "33 s1 0.0 False\n",
            "34 s1 1 False\n",
            "35 s1 0.0 False\n",
            "36 s0 0.0 False\n",
            "37 s0 0.0 False\n",
            "38 s0 0.0 False\n",
            "39 s0 0.0 False\n",
            "40 s0 0.0 False\n",
            "41 s1 0.0 False\n",
            "42 s1 1 False\n",
            "43 s1 1 False\n",
            "44 s1 1 False\n",
            "45 s0 0.0 False\n",
            "46 s0 0.0 False\n",
            "47 s1 0.0 False\n",
            "48 s1 1 False\n",
            "49 s1 1 False\n",
            "50 s1 1 False\n",
            "51 s1 1 False\n",
            "52 s0 0.0 False\n",
            "53 s1 0.0 False\n",
            "54 s1 0.0 False\n",
            "55 s1 0.0 False\n",
            "56 s1 1 False\n",
            "57 s1 1 False\n",
            "58 s0 0.0 False\n",
            "59 s0 0.0 False\n",
            "60 s0 0.0 False\n",
            "61 s1 0.0 False\n",
            "62 s1 0.0 False\n",
            "63 s0 0.0 False\n",
            "64 s1 0.0 False\n",
            "65 s1 1 False\n",
            "66 s1 1 False\n",
            "67 s0 0.0 False\n",
            "68 s0 0.0 False\n",
            "69 s1 0.0 False\n",
            "70 s1 0.0 False\n",
            "71 s0 0.0 False\n",
            "72 s0 0.0 False\n",
            "73 s1 0.0 False\n",
            "74 s1 0.0 False\n",
            "75 s1 0.0 False\n",
            "76 s1 0.0 False\n",
            "77 s1 1 False\n",
            "78 s1 1 False\n",
            "79 s0 0.0 False\n",
            "80 s0 0.0 False\n",
            "81 s0 0.0 False\n",
            "82 s0 0.0 False\n",
            "83 s1 0.0 False\n",
            "84 s0 0.0 False\n",
            "85 s0 0.0 False\n",
            "86 s0 0.0 False\n",
            "87 s1 0.0 False\n",
            "88 s0 0.0 False\n",
            "89 s0 0.0 False\n",
            "90 s1 0.0 False\n",
            "91 s0 0.0 False\n",
            "92 s1 0.0 False\n",
            "93 s0 0.0 False\n",
            "94 s0 0.0 False\n",
            "95 s0 0.0 False\n",
            "96 s0 0.0 False\n",
            "97 s1 0.0 False\n",
            "98 s1 1 False\n",
            "99 s1 1 False\n",
            "100 s1 1 False\n",
            "101 s1 1 False\n",
            "102 s1 1 False\n",
            "103 s0 0.0 False\n",
            "104 s1 0.0 False\n",
            "105 s1 1 False\n",
            "106 s0 0.0 False\n",
            "107 s1 0.0 False\n",
            "108 s1 1 False\n",
            "109 s1 1 False\n",
            "110 s1 1 False\n",
            "111 s1 0.0 False\n",
            "112 s0 0.0 False\n",
            "113 s0 0.0 False\n",
            "114 s0 0.0 False\n",
            "115 s0 0.0 False\n",
            "116 s1 0.0 False\n",
            "117 s1 1 False\n",
            "118 s1 0.0 False\n",
            "119 s1 1 False\n",
            "120 s1 0.0 False\n",
            "121 s1 1 False\n",
            "122 s1 0.0 False\n",
            "123 s1 1 False\n",
            "124 s1 1 False\n",
            "125 s1 0.0 False\n",
            "126 s1 1 False\n",
            "127 s1 1 False\n",
            "128 s1 0.0 False\n",
            "129 s0 0.0 False\n",
            "130 s1 0.0 False\n",
            "131 s1 1 False\n",
            "132 s1 1 False\n",
            "133 s1 1 False\n",
            "134 s0 0.0 False\n",
            "135 s1 0.0 False\n",
            "136 s0 0.0 False\n",
            "137 s1 0.0 False\n",
            "138 s1 0.0 False\n",
            "139 s1 1 False\n",
            "140 s1 1 False\n",
            "141 s1 1 False\n",
            "142 s1 1 False\n",
            "143 s1 0.0 False\n",
            "144 s1 0.0 False\n",
            "145 s1 1 False\n",
            "146 s1 0.0 False\n",
            "147 s1 0.0 False\n",
            "148 s1 1 False\n",
            "149 s1 1 False\n",
            "150 s0 0.0 False\n",
            "151 s0 0.0 False\n",
            "152 s0 0.0 False\n",
            "153 s1 0.0 False\n",
            "154 s0 0.0 False\n",
            "155 s1 0.0 False\n",
            "156 s1 0.0 False\n",
            "157 s0 0.0 False\n",
            "158 s0 0.0 False\n",
            "159 s1 0.0 False\n",
            "160 s1 1 False\n",
            "161 s1 0.0 False\n",
            "162 s0 0.0 False\n",
            "163 s0 0.0 False\n",
            "164 s0 0.0 False\n",
            "165 s1 0.0 False\n",
            "166 s1 0.0 False\n",
            "167 s0 0.0 False\n",
            "168 s0 0.0 False\n",
            "169 s0 0.0 False\n",
            "170 s0 0.0 False\n",
            "171 s1 0.0 False\n",
            "172 s0 0.0 False\n",
            "173 s1 0.0 False\n",
            "174 s1 1 False\n",
            "175 s1 1 False\n",
            "176 s1 1 False\n",
            "177 s1 0.0 False\n",
            "178 s1 0.0 False\n",
            "179 s0 0.0 False\n",
            "180 s0 0.0 False\n",
            "181 s1 0.0 False\n",
            "182 s1 0.0 False\n",
            "183 s0 0.0 False\n",
            "184 s0 0.0 False\n",
            "185 s0 0.0 False\n",
            "186 s1 0.0 False\n",
            "187 s1 1 False\n",
            "188 s0 0.0 False\n",
            "189 s1 0.0 False\n",
            "190 s1 0.0 False\n",
            "191 s1 1 False\n",
            "192 s1 1 False\n",
            "193 s1 0.0 False\n",
            "194 s0 0.0 False\n",
            "195 s1 0.0 False\n",
            "196 s1 0.0 False\n",
            "197 s1 1 False\n",
            "198 s0 0.0 False\n",
            "199 s0 0.0 False\n"
          ],
          "name": "stdout"
        }
      ]
    },
    {
      "cell_type": "code",
      "metadata": {
        "colab": {
          "base_uri": "https://localhost:8080/"
        },
        "id": "zZJKMJeDSZnm",
        "outputId": "69c0f47b-c031-45ff-9c2a-c500f377a10e"
      },
      "source": [
        "state = mdp.reset()\n",
        "\n",
        "for t in range(200):\n",
        "\n",
        "  action = random.choice(mdp.get_possible_actions(state))\n",
        "  observation, reward, done, info = mdp.step(action)\n",
        "  state = observation\n",
        "\n",
        "  print(t, observation, reward, done)"
      ],
      "execution_count": 11,
      "outputs": [
        {
          "output_type": "stream",
          "text": [
            "0 s1 0.0 False\n",
            "1 s1 0.0 False\n",
            "2 s0 0.0 False\n",
            "3 s0 0.0 False\n",
            "4 s1 0.5 False\n",
            "5 s0 0.0 False\n",
            "6 s0 0.0 False\n",
            "7 s1 0.5 False\n",
            "8 s1 0.0 False\n",
            "9 s1 1 False\n",
            "10 s1 1 False\n",
            "11 s0 0.0 False\n",
            "12 s0 0.0 False\n",
            "13 s0 0.0 False\n",
            "14 s1 0.5 False\n",
            "15 s1 1 False\n",
            "16 s0 0.0 False\n",
            "17 s0 0.0 False\n",
            "18 s1 0.0 False\n",
            "19 s1 1 False\n",
            "20 s1 0.0 False\n",
            "21 s0 0.0 False\n",
            "22 s1 0.0 False\n",
            "23 s0 0.0 False\n",
            "24 s1 0.0 False\n",
            "25 s0 0.0 False\n",
            "26 s1 0.5 False\n",
            "27 s1 0.0 False\n",
            "28 s1 0.0 False\n",
            "29 s1 1 False\n",
            "30 s1 0.0 False\n",
            "31 s1 0.0 False\n",
            "32 s1 0.0 False\n",
            "33 s1 1 False\n",
            "34 s1 0.0 False\n",
            "35 s1 1 False\n",
            "36 s1 1 False\n",
            "37 s1 0.0 False\n",
            "38 s1 1 False\n",
            "39 s0 0.0 False\n",
            "40 s1 0.0 False\n",
            "41 s1 1 False\n",
            "42 s1 1 False\n",
            "43 s1 0.0 False\n",
            "44 s1 1 False\n",
            "45 s1 0.0 False\n",
            "46 s0 0.0 False\n",
            "47 s1 0.5 False\n",
            "48 s1 1 False\n",
            "49 s1 1 False\n",
            "50 s1 1 False\n",
            "51 s1 1 False\n",
            "52 s1 1 False\n",
            "53 s1 0.0 False\n",
            "54 s1 1 False\n",
            "55 s0 0.0 False\n",
            "56 s1 0.5 False\n",
            "57 s1 1 False\n",
            "58 s1 1 False\n",
            "59 s0 0.0 False\n",
            "60 s1 0.5 False\n",
            "61 s1 0.0 False\n",
            "62 s0 0.0 False\n",
            "63 s1 0.5 False\n",
            "64 s1 0.0 False\n",
            "65 s1 1 False\n",
            "66 s1 1 False\n",
            "67 s0 0.0 False\n",
            "68 s0 0.0 False\n",
            "69 s0 0.0 False\n",
            "70 s1 0.0 False\n",
            "71 s1 1 False\n",
            "72 s1 0.0 False\n",
            "73 s0 0.0 False\n",
            "74 s1 0.0 False\n",
            "75 s0 0.0 False\n",
            "76 s0 0.0 False\n",
            "77 s1 0.0 False\n",
            "78 s1 1 False\n",
            "79 s1 1 False\n",
            "80 s1 1 False\n",
            "81 s0 0.0 False\n",
            "82 s0 0.0 False\n",
            "83 s1 0.5 False\n",
            "84 s1 1 False\n",
            "85 s1 1 False\n",
            "86 s1 0.0 False\n",
            "87 s1 0.0 False\n",
            "88 s1 1 False\n",
            "89 s1 1 False\n",
            "90 s1 0.0 False\n",
            "91 s0 0.0 False\n",
            "92 s1 0.0 False\n",
            "93 s1 1 False\n",
            "94 s1 0.0 False\n",
            "95 s1 0.0 False\n",
            "96 s0 0.0 False\n",
            "97 s1 0.5 False\n",
            "98 s1 0.0 False\n",
            "99 s1 1 False\n",
            "100 s1 0.0 False\n",
            "101 s1 1 False\n",
            "102 s1 0.0 False\n",
            "103 s1 1 False\n",
            "104 s1 0.0 False\n",
            "105 s1 1 False\n",
            "106 s0 0.0 False\n",
            "107 s0 0.0 False\n",
            "108 s0 0.0 False\n",
            "109 s1 0.5 False\n",
            "110 s1 1 False\n",
            "111 s0 0.0 False\n",
            "112 s0 0.0 False\n",
            "113 s1 0.5 False\n",
            "114 s1 0.0 False\n",
            "115 s1 1 False\n",
            "116 s1 1 False\n",
            "117 s1 1 False\n",
            "118 s1 1 False\n",
            "119 s1 0.0 False\n",
            "120 s0 0.0 False\n",
            "121 s1 0.0 False\n",
            "122 s1 1 False\n",
            "123 s0 0.0 False\n",
            "124 s1 0.0 False\n",
            "125 s0 0.0 False\n",
            "126 s0 0.0 False\n",
            "127 s1 0.5 False\n",
            "128 s1 0.0 False\n",
            "129 s1 1 False\n",
            "130 s1 0.0 False\n",
            "131 s0 0.0 False\n",
            "132 s1 0.5 False\n",
            "133 s0 0.0 False\n",
            "134 s1 0.5 False\n",
            "135 s0 0.0 False\n",
            "136 s1 0.0 False\n",
            "137 s0 0.0 False\n",
            "138 s1 0.5 False\n",
            "139 s0 0.0 False\n",
            "140 s1 0.0 False\n",
            "141 s1 0.0 False\n",
            "142 s1 1 False\n",
            "143 s1 0.0 False\n",
            "144 s1 1 False\n",
            "145 s1 0.0 False\n",
            "146 s0 0.0 False\n",
            "147 s0 0.0 False\n",
            "148 s1 0.5 False\n",
            "149 s1 1 False\n",
            "150 s1 0.0 False\n",
            "151 s0 0.0 False\n",
            "152 s1 0.5 False\n",
            "153 s1 1 False\n",
            "154 s1 0.0 False\n",
            "155 s1 1 False\n",
            "156 s1 1 False\n",
            "157 s0 0.0 False\n",
            "158 s1 0.0 False\n",
            "159 s1 0.0 False\n",
            "160 s1 1 False\n",
            "161 s1 1 False\n",
            "162 s1 1 False\n",
            "163 s1 1 False\n",
            "164 s1 1 False\n",
            "165 s0 0.0 False\n",
            "166 s1 0.5 False\n",
            "167 s1 0.0 False\n",
            "168 s0 0.0 False\n",
            "169 s0 0.0 False\n",
            "170 s1 0.0 False\n",
            "171 s0 0.0 False\n",
            "172 s0 0.0 False\n",
            "173 s1 0.0 False\n",
            "174 s1 0.0 False\n",
            "175 s1 0.0 False\n",
            "176 s1 1 False\n",
            "177 s1 0.0 False\n",
            "178 s1 1 False\n",
            "179 s1 1 False\n",
            "180 s1 1 False\n",
            "181 s1 1 False\n",
            "182 s0 0.0 False\n",
            "183 s0 0.0 False\n",
            "184 s0 0.0 False\n",
            "185 s1 0.5 False\n",
            "186 s1 1 False\n",
            "187 s1 1 False\n",
            "188 s0 0.0 False\n",
            "189 s1 0.5 False\n",
            "190 s0 0.0 False\n",
            "191 s1 0.0 False\n",
            "192 s0 0.0 False\n",
            "193 s1 0.5 False\n",
            "194 s1 1 False\n",
            "195 s0 0.0 False\n",
            "196 s1 0.5 False\n",
            "197 s1 0.0 False\n",
            "198 s1 0.0 False\n",
            "199 s0 0.0 False\n"
          ],
          "name": "stdout"
        }
      ]
    },
    {
      "cell_type": "code",
      "metadata": {
        "id": "1kMWyJCvSZyM"
      },
      "source": [
        "def get_action_value(mdp, state_values, state, action, gamma):\n",
        "  Q = 0.\n",
        "\n",
        "  for next_state in mdp.get_next_states(state, action):\n",
        "    \n",
        "    prob = mdp.get_transition_prob(state, action, next_state)\n",
        "    reward = mdp.get_reward(state, action, next_state)\n",
        "    Q += prob * (reward + (gamma * state_values[next_state]))\n",
        "\n",
        "  return Q"
      ],
      "execution_count": 12,
      "outputs": []
    },
    {
      "cell_type": "code",
      "metadata": {
        "id": "en_a22qRULcL"
      },
      "source": [
        "def get_new_state_value(mdp, state_values, state, gamma):\n",
        "  \n",
        "  if mdp.is_terminal(state):\n",
        "    return 0\n",
        "\n",
        "  return max([get_action_value(mdp, state_values, state, action, gamma) for action in mdp.get_possible_actions(state)])"
      ],
      "execution_count": 13,
      "outputs": []
    },
    {
      "cell_type": "code",
      "metadata": {
        "id": "kBLSQ2AnULfR",
        "colab": {
          "base_uri": "https://localhost:8080/"
        },
        "outputId": "2706dd46-4835-4be5-82ac-77ea69b2aa8e"
      },
      "source": [
        "gamma = 0.95\n",
        "num_iter = 100\n",
        "min_diff = 0.001\n",
        "\n",
        "state_values = {s: 0 for s in mdp.get_all_states()}\n",
        "\n",
        "for t in range(num_iter):\n",
        "\n",
        "    new_state_values = {state: get_new_state_value(mdp, state_values, state, gamma) for state in mdp.get_all_states()}\n",
        "\n",
        "    diff = max(abs(new_state_values[s] - state_values[s]) for s in mdp.get_all_states())\n",
        "\n",
        "    print(t, diff, state_values)\n",
        "\n",
        "    state_values = new_state_values\n",
        "\n",
        "    if diff < min_diff:\n",
        "        break"
      ],
      "execution_count": 14,
      "outputs": [
        {
          "output_type": "stream",
          "text": [
            "0 1.0 {'s0': 0, 's1': 0}\n",
            "1 0.95 {'s0': 0.5, 's1': 1.0}\n",
            "2 0.9025000000000001 {'s0': 1.45, 's1': 1.95}\n",
            "3 0.8573749999999998 {'s0': 2.3525, 's1': 2.8525}\n",
            "4 0.8145062499999995 {'s0': 3.209875, 's1': 3.709875}\n",
            "5 0.7737809374999998 {'s0': 4.024381249999999, 's1': 4.524381249999999}\n",
            "6 0.7350918906250001 {'s0': 4.798162187499999, 's1': 5.298162187499999}\n",
            "7 0.69833729609375 {'s0': 5.533254078124999, 's1': 6.033254078124999}\n",
            "8 0.6634204312890626 {'s0': 6.231591374218749, 's1': 6.731591374218749}\n",
            "9 0.630249409724609 {'s0': 6.895011805507812, 's1': 7.395011805507812}\n",
            "10 0.5987369392383783 {'s0': 7.525261215232421, 's1': 8.02526121523242}\n",
            "11 0.5688000922764598 {'s0': 8.123998154470799, 's1': 8.623998154470799}\n",
            "12 0.540360087662636 {'s0': 8.692798246747259, 's1': 9.192798246747259}\n",
            "13 0.5133420832795057 {'s0': 9.233158334409895, 's1': 9.733158334409895}\n",
            "14 0.48767497911553015 {'s0': 9.7465004176894, 's1': 10.2465004176894}\n",
            "15 0.4632912301597525 {'s0': 10.23417539680493, 's1': 10.73417539680493}\n",
            "16 0.4401266686517662 {'s0': 10.697466626964683, 's1': 11.197466626964683}\n",
            "17 0.4181203352191769 {'s0': 11.13759329561645, 's1': 11.63759329561645}\n",
            "18 0.397214318458218 {'s0': 11.555713630835626, 's1': 12.055713630835626}\n",
            "19 0.37735360253530636 {'s0': 11.952927949293844, 's1': 12.452927949293844}\n",
            "20 0.3584859224085424 {'s0': 12.33028155182915, 's1': 12.83028155182915}\n",
            "21 0.34056162628811393 {'s0': 12.688767474237693, 's1': 13.188767474237693}\n",
            "22 0.32353354497370823 {'s0': 13.029329100525807, 's1': 13.529329100525807}\n",
            "23 0.3073568677250229 {'s0': 13.352862645499515, 's1': 13.852862645499515}\n",
            "24 0.29198902433877194 {'s0': 13.660219513224538, 's1': 14.160219513224538}\n",
            "25 0.2773895731218339 {'s0': 13.95220853756331, 's1': 14.45220853756331}\n",
            "26 0.26352009446574165 {'s0': 14.229598110685144, 's1': 14.729598110685144}\n",
            "27 0.25034408974245537 {'s0': 14.493118205150886, 's1': 14.993118205150886}\n",
            "28 0.23782688525533224 {'s0': 14.743462294893341, 's1': 15.243462294893341}\n",
            "29 0.22593554099256608 {'s0': 14.981289180148673, 's1': 15.481289180148673}\n",
            "30 0.21463876394293813 {'s0': 15.20722472114124, 's1': 15.70722472114124}\n",
            "31 0.2039068257457899 {'s0': 15.421863485084177, 's1': 15.921863485084177}\n",
            "32 0.1937114844585004 {'s0': 15.625770310829967, 's1': 16.125770310829967}\n",
            "33 0.1840259102355759 {'s0': 15.819481795288468, 's1': 16.319481795288468}\n",
            "34 0.1748246147237964 {'s0': 16.003507705524044, 's1': 16.503507705524044}\n",
            "35 0.1660833839876048 {'s0': 16.17833232024784, 's1': 16.67833232024784}\n",
            "36 0.15777921478822776 {'s0': 16.344415704235445, 's1': 16.844415704235445}\n",
            "37 0.14989025404881673 {'s0': 16.502194919023673, 's1': 17.002194919023673}\n",
            "38 0.14239574134637323 {'s0': 16.65208517307249, 's1': 17.15208517307249}\n",
            "39 0.1352759542790558 {'s0': 16.794480914418862, 's1': 17.294480914418862}\n",
            "40 0.12851215656510462 {'s0': 16.92975686869792, 's1': 17.42975686869792}\n",
            "41 0.12208654873684921 {'s0': 17.058269025263023, 's1': 17.558269025263023}\n",
            "42 0.1159822213000048 {'s0': 17.180355573999872, 's1': 17.680355573999872}\n",
            "43 0.11018311023500615 {'s0': 17.296337795299877, 's1': 17.796337795299877}\n",
            "44 0.10467395472325336 {'s0': 17.406520905534883, 's1': 17.906520905534883}\n",
            "45 0.09944025698709069 {'s0': 17.511194860258136, 's1': 18.011194860258136}\n",
            "46 0.09446824413773669 {'s0': 17.610635117245227, 's1': 18.110635117245227}\n",
            "47 0.08974483193085092 {'s0': 17.705103361382964, 's1': 18.205103361382964}\n",
            "48 0.08525759033430802 {'s0': 17.794848193313815, 's1': 18.294848193313815}\n",
            "49 0.08099471081759191 {'s0': 17.880105783648123, 's1': 18.380105783648123}\n",
            "50 0.07694497527671373 {'s0': 17.961100494465715, 's1': 18.461100494465715}\n",
            "51 0.07309772651287716 {'s0': 18.03804546974243, 's1': 18.53804546974243}\n",
            "52 0.06944284018723224 {'s0': 18.111143196255306, 's1': 18.611143196255306}\n",
            "53 0.06597069817787116 {'s0': 18.180586036442538, 's1': 18.680586036442538}\n",
            "54 0.06267216326897795 {'s0': 18.24655673462041, 's1': 18.74655673462041}\n",
            "55 0.05953855510552941 {'s0': 18.309228897889387, 's1': 18.809228897889387}\n",
            "56 0.05656162735025205 {'s0': 18.368767452994916, 's1': 18.868767452994916}\n",
            "57 0.05373354598274105 {'s0': 18.42532908034517, 's1': 18.92532908034517}\n",
            "58 0.05104686868360275 {'s0': 18.47906262632791, 's1': 18.97906262632791}\n",
            "59 0.048494525249424214 {'s0': 18.530109495011512, 's1': 19.030109495011512}\n",
            "60 0.04606979898695229 {'s0': 18.578604020260936, 's1': 19.078604020260936}\n",
            "61 0.043766309037604145 {'s0': 18.62467381924789, 's1': 19.12467381924789}\n",
            "62 0.04157799358572589 {'s0': 18.668440128285493, 's1': 19.168440128285493}\n",
            "63 0.03949909390643924 {'s0': 18.71001812187122, 's1': 19.21001812187122}\n",
            "64 0.03752413921111497 {'s0': 18.749517215777658, 's1': 19.249517215777658}\n",
            "65 0.035647932250562064 {'s0': 18.787041354988773, 's1': 19.287041354988773}\n",
            "66 0.033865535638032185 {'s0': 18.822689287239335, 's1': 19.322689287239335}\n",
            "67 0.032172258856132174 {'s0': 18.856554822877367, 's1': 19.356554822877367}\n",
            "68 0.030563645913325388 {'s0': 18.8887270817335, 's1': 19.3887270817335}\n",
            "69 0.02903546361765663 {'s0': 18.919290727646825, 's1': 19.419290727646825}\n",
            "70 0.027583690436774333 {'s0': 18.94832619126448, 's1': 19.44832619126448}\n",
            "71 0.026204505914936504 {'s0': 18.975909881701256, 's1': 19.475909881701256}\n",
            "72 0.024894280619189857 {'s0': 19.002114387616192, 's1': 19.502114387616192}\n",
            "73 0.023649566588229476 {'s0': 19.027008668235382, 's1': 19.527008668235382}\n",
            "74 0.022467088258817824 {'s0': 19.05065823482361, 's1': 19.55065823482361}\n",
            "75 0.021343733845878177 {'s0': 19.07312532308243, 's1': 19.57312532308243}\n",
            "76 0.02027654715358551 {'s0': 19.094469056928308, 's1': 19.594469056928308}\n",
            "77 0.019262719795904104 {'s0': 19.114745604081893, 's1': 19.614745604081893}\n",
            "78 0.01829958380610819 {'s0': 19.134008323877797, 's1': 19.634008323877797}\n",
            "79 0.0173846046158026 {'s0': 19.152307907683905, 's1': 19.652307907683905}\n",
            "80 0.01651537438501549 {'s0': 19.169692512299708, 's1': 19.669692512299708}\n",
            "81 0.01568960566576294 {'s0': 19.186207886684723, 's1': 19.686207886684723}\n",
            "82 0.01490512538247657 {'s0': 19.201897492350486, 's1': 19.701897492350486}\n",
            "83 0.014159869113349544 {'s0': 19.216802617732963, 's1': 19.716802617732963}\n",
            "84 0.013451875657683132 {'s0': 19.230962486846312, 's1': 19.730962486846312}\n",
            "85 0.012779281874799153 {'s0': 19.244414362503996, 's1': 19.744414362503996}\n",
            "86 0.012140317781060617 {'s0': 19.257193644378795, 's1': 19.757193644378795}\n",
            "87 0.011533301892004744 {'s0': 19.269333962159855, 's1': 19.769333962159855}\n",
            "88 0.010956636797406105 {'s0': 19.28086726405186, 's1': 19.78086726405186}\n",
            "89 0.010408804957535267 {'s0': 19.291823900849266, 's1': 19.791823900849266}\n",
            "90 0.009888364709659925 {'s0': 19.3022327058068, 's1': 19.8022327058068}\n",
            "91 0.009393946474176573 {'s0': 19.31212107051646, 's1': 19.81212107051646}\n",
            "92 0.008924249150467745 {'s0': 19.321515016990638, 's1': 19.821515016990638}\n",
            "93 0.008478036692942226 {'s0': 19.330439266141106, 's1': 19.830439266141106}\n",
            "94 0.008054134858298312 {'s0': 19.338917302834048, 's1': 19.838917302834048}\n",
            "95 0.007651428115380554 {'s0': 19.346971437692346, 's1': 19.846971437692346}\n",
            "96 0.007268856709611526 {'s0': 19.354622865807727, 's1': 19.854622865807727}\n",
            "97 0.006905413874132904 {'s0': 19.36189172251734, 's1': 19.86189172251734}\n",
            "98 0.006560143180426081 {'s0': 19.36879713639147, 's1': 19.86879713639147}\n",
            "99 0.006232136021402823 {'s0': 19.375357279571897, 's1': 19.875357279571897}\n"
          ],
          "name": "stdout"
        }
      ]
    },
    {
      "cell_type": "code",
      "metadata": {
        "id": "j3ISJn_WULh6",
        "colab": {
          "base_uri": "https://localhost:8080/",
          "height": 296
        },
        "outputId": "d927a4e6-0661-4af6-aa6b-599e671f8002"
      },
      "source": [
        "if has_graphviz:\n",
        "  from mdp import plot_graph_with_state_values\n",
        "  display(plot_graph_with_state_values(mdp, state_values))"
      ],
      "execution_count": 15,
      "outputs": [
        {
          "output_type": "display_data",
          "data": {
            "text/plain": [
              "<graphviz.dot.Digraph at 0x7f582aedf410>"
            ],
            "image/svg+xml": "<?xml version=\"1.0\" encoding=\"UTF-8\" standalone=\"no\"?>\n<!DOCTYPE svg PUBLIC \"-//W3C//DTD SVG 1.1//EN\"\n \"http://www.w3.org/Graphics/SVG/1.1/DTD/svg11.dtd\">\n<!-- Generated by graphviz version 2.40.1 (20161225.0304)\n -->\n<!-- Title: MDP Pages: 1 -->\n<svg width=\"720pt\" height=\"206pt\"\n viewBox=\"0.00 0.00 720.00 205.99\" xmlns=\"http://www.w3.org/2000/svg\" xmlns:xlink=\"http://www.w3.org/1999/xlink\">\n<g id=\"graph0\" class=\"graph\" transform=\"scale(.8633 .8633) rotate(0) translate(4 234.5936)\">\n<title>MDP</title>\n<polygon fill=\"#ffffff\" stroke=\"transparent\" points=\"-4,4 -4,-234.5936 829.9798,-234.5936 829.9798,4 -4,4\"/>\n<!-- s0 -->\n<g id=\"node1\" class=\"node\">\n<title>s0</title>\n<ellipse fill=\"#85ff75\" stroke=\"#85ff75\" cx=\"75.4178\" cy=\"-114.0164\" rx=\"71.34\" ry=\"71.34\"/>\n<ellipse fill=\"none\" stroke=\"#85ff75\" cx=\"75.4178\" cy=\"-114.0164\" rx=\"75.3357\" ry=\"75.3357\"/>\n<text text-anchor=\"middle\" x=\"75.4178\" y=\"-120.8164\" font-family=\"Arial\" font-size=\"24.00\" fill=\"#000000\">s0</text>\n<text text-anchor=\"middle\" x=\"75.4178\" y=\"-94.8164\" font-family=\"Arial\" font-size=\"24.00\" fill=\"#000000\">V =19.3</text>\n</g>\n<!-- s0&#45;a0 -->\n<g id=\"node2\" class=\"node\">\n<title>s0&#45;a0</title>\n<ellipse fill=\"#ffb6c1\" stroke=\"#ffb6c1\" cx=\"273.4127\" cy=\"-203.0164\" rx=\"27.6545\" ry=\"27.6545\"/>\n<text text-anchor=\"middle\" x=\"273.4127\" y=\"-198.0164\" font-family=\"Arial\" font-size=\"20.00\" fill=\"#000000\">a0</text>\n</g>\n<!-- s0&#45;&gt;s0&#45;a0 -->\n<g id=\"edge1\" class=\"edge\">\n<title>s0&#45;&gt;s0&#45;a0</title>\n<path fill=\"none\" stroke=\"#ff0000\" stroke-width=\"2\" d=\"M130.8858,-165.5692C142.7035,-174.284 155.6259,-182.3347 168.8356,-188.0164 189.7838,-197.0266 215.0505,-200.823 235.5003,-202.3447\"/>\n<polygon fill=\"#ff0000\" stroke=\"#ff0000\" stroke-width=\"2\" points=\"235.5174,-205.8517 245.7067,-202.9487 235.9309,-198.864 235.5174,-205.8517\"/>\n</g>\n<!-- s0&#45;a1 -->\n<g id=\"node4\" class=\"node\">\n<title>s0&#45;a1</title>\n<ellipse fill=\"#ffb6c1\" stroke=\"#ffb6c1\" cx=\"273.4127\" cy=\"-130.0164\" rx=\"27.6545\" ry=\"27.6545\"/>\n<text text-anchor=\"middle\" x=\"273.4127\" y=\"-125.0164\" font-family=\"Arial\" font-size=\"20.00\" fill=\"#000000\">a1</text>\n</g>\n<!-- s0&#45;&gt;s0&#45;a1 -->\n<g id=\"edge4\" class=\"edge\">\n<title>s0&#45;&gt;s0&#45;a1</title>\n<path fill=\"none\" stroke=\"#ff0000\" stroke-width=\"2\" d=\"M150.836,-120.111C179.7757,-122.4496 211.5698,-125.0189 235.524,-126.9546\"/>\n<polygon fill=\"#ff0000\" stroke=\"#ff0000\" stroke-width=\"2\" points=\"235.3592,-130.4526 245.6086,-127.7696 235.9231,-123.4754 235.3592,-130.4526\"/>\n</g>\n<!-- s0&#45;a2 -->\n<g id=\"node5\" class=\"node\">\n<title>s0&#45;a2</title>\n<ellipse fill=\"#ffb6c1\" stroke=\"#ffb6c1\" cx=\"273.4127\" cy=\"-57.0164\" rx=\"27.6545\" ry=\"27.6545\"/>\n<text text-anchor=\"middle\" x=\"273.4127\" y=\"-52.0164\" font-family=\"Arial\" font-size=\"20.00\" fill=\"#000000\">a2</text>\n</g>\n<!-- s0&#45;&gt;s0&#45;a2 -->\n<g id=\"edge6\" class=\"edge\">\n<title>s0&#45;&gt;s0&#45;a2</title>\n<path fill=\"none\" stroke=\"#ff0000\" stroke-width=\"2\" d=\"M148.0195,-93.1154C178.2841,-84.4027 212.0993,-74.6677 236.9804,-67.5048\"/>\n<polygon fill=\"#ff0000\" stroke=\"#ff0000\" stroke-width=\"2\" points=\"238.0817,-70.83 246.7231,-64.7 236.1451,-64.1032 238.0817,-70.83\"/>\n</g>\n<!-- s0&#45;a0&#45;&gt;s0 -->\n<g id=\"edge2\" class=\"edge\">\n<title>s0&#45;a0&#45;&gt;s0</title>\n<path fill=\"none\" stroke=\"#0000ff\" stroke-dasharray=\"5,2\" d=\"M253.2006,-184.0394C245.6588,-177.6754 236.7535,-170.9504 227.8356,-166.0164 206.2262,-154.0608 181.3833,-144.1648 158.1109,-136.3304\"/>\n<polygon fill=\"#0000ff\" stroke=\"#0000ff\" points=\"159.1864,-132.9998 148.5937,-133.2097 157.0053,-139.6513 159.1864,-132.9998\"/>\n<text text-anchor=\"middle\" x=\"198.3356\" y=\"-171.2164\" font-family=\"Arial\" font-size=\"16.00\" fill=\"#000000\">p = 0.05</text>\n</g>\n<!-- s1 -->\n<g id=\"node3\" class=\"node\">\n<title>s1</title>\n<ellipse fill=\"#85ff75\" stroke=\"#85ff75\" cx=\"542.4077\" cy=\"-104.0164\" rx=\"71.34\" ry=\"71.34\"/>\n<ellipse fill=\"none\" stroke=\"#85ff75\" cx=\"542.4077\" cy=\"-104.0164\" rx=\"75.3357\" ry=\"75.3357\"/>\n<text text-anchor=\"middle\" x=\"542.4077\" y=\"-110.8164\" font-family=\"Arial\" font-size=\"24.00\" fill=\"#000000\">s1</text>\n<text text-anchor=\"middle\" x=\"542.4077\" y=\"-84.8164\" font-family=\"Arial\" font-size=\"24.00\" fill=\"#000000\">V =19.8</text>\n</g>\n<!-- s0&#45;a0&#45;&gt;s1 -->\n<g id=\"edge3\" class=\"edge\">\n<title>s0&#45;a0&#45;&gt;s1</title>\n<path fill=\"none\" stroke=\"#0000ff\" stroke-dasharray=\"5,2\" d=\"M299.6949,-193.3437C336.9984,-179.6146 406.9053,-153.8863 462.148,-133.5549\"/>\n<polygon fill=\"#0000ff\" stroke=\"#0000ff\" points=\"463.4035,-136.8225 471.5792,-130.0839 460.9857,-130.2532 463.4035,-136.8225\"/>\n<text text-anchor=\"middle\" x=\"383.9899\" y=\"-189.2164\" font-family=\"Arial\" font-size=\"16.00\" fill=\"#000000\">p = 0.95</text>\n</g>\n<!-- s1&#45;a0 -->\n<g id=\"node6\" class=\"node\">\n<title>s1&#45;a0</title>\n<ellipse fill=\"#ffb6c1\" stroke=\"#ffb6c1\" cx=\"798.4026\" cy=\"-46.0164\" rx=\"27.6545\" ry=\"27.6545\"/>\n<text text-anchor=\"middle\" x=\"798.4026\" y=\"-41.0164\" font-family=\"Arial\" font-size=\"20.00\" fill=\"#000000\">a0</text>\n</g>\n<!-- s1&#45;&gt;s1&#45;a0 -->\n<g id=\"edge8\" class=\"edge\">\n<title>s1&#45;&gt;s1&#45;a0</title>\n<path fill=\"none\" stroke=\"#ff0000\" stroke-width=\"2\" d=\"M617.3261,-94.0791C657.9198,-87.7118 708.6678,-78.1512 752.8255,-65.0164 756.405,-63.9517 760.086,-62.6992 763.7304,-61.3536\"/>\n<polygon fill=\"#ff0000\" stroke=\"#ff0000\" stroke-width=\"2\" points=\"765.1659,-64.5502 773.1966,-57.6394 762.6091,-58.0338 765.1659,-64.5502\"/>\n</g>\n<!-- s1&#45;a1 -->\n<g id=\"node7\" class=\"node\">\n<title>s1&#45;a1</title>\n<ellipse fill=\"#ffb6c1\" stroke=\"#ffb6c1\" cx=\"798.4026\" cy=\"-128.0164\" rx=\"27.6545\" ry=\"27.6545\"/>\n<text text-anchor=\"middle\" x=\"798.4026\" y=\"-123.0164\" font-family=\"Arial\" font-size=\"20.00\" fill=\"#000000\">a1</text>\n</g>\n<!-- s1&#45;&gt;s1&#45;a1 -->\n<g id=\"edge11\" class=\"edge\">\n<title>s1&#45;&gt;s1&#45;a1</title>\n<path fill=\"none\" stroke=\"#ff0000\" stroke-width=\"2\" d=\"M618.1679,-106.3176C658.3338,-108.2274 708.4226,-111.7043 752.8255,-118.0164 755.6827,-118.4226 758.6273,-118.9094 761.5797,-119.4465\"/>\n<polygon fill=\"#ff0000\" stroke=\"#ff0000\" stroke-width=\"2\" points=\"761.0415,-122.9079 771.5317,-121.4223 762.4047,-116.0419 761.0415,-122.9079\"/>\n</g>\n<!-- s0&#45;a1&#45;&gt;s0 -->\n<g id=\"edge5\" class=\"edge\">\n<title>s0&#45;a1&#45;&gt;s0</title>\n<path fill=\"none\" stroke=\"#0000ff\" stroke-dasharray=\"5,2\" d=\"M252.0055,-112.2504C244.7765,-107.2954 236.3656,-102.5718 227.8356,-100.0164 205.9944,-93.4734 181.672,-92.889 158.9851,-95.0042\"/>\n<polygon fill=\"#0000ff\" stroke=\"#0000ff\" points=\"158.5864,-91.5268 149.0342,-96.1099 159.3596,-98.484 158.5864,-91.5268\"/>\n<text text-anchor=\"middle\" x=\"198.3356\" y=\"-105.2164\" font-family=\"Arial\" font-size=\"16.00\" fill=\"#000000\">p = 1</text>\n</g>\n<!-- s0&#45;a2&#45;&gt;s1 -->\n<g id=\"edge7\" class=\"edge\">\n<title>s0&#45;a2&#45;&gt;s1</title>\n<path fill=\"none\" stroke=\"#0000ff\" stroke-dasharray=\"5,2\" d=\"M300.6857,-61.7817C337.2763,-68.175 403.9124,-79.8179 457.9665,-89.2625\"/>\n<polygon fill=\"#0000ff\" stroke=\"#0000ff\" points=\"457.4499,-92.7252 467.9031,-90.9987 458.6548,-85.8297 457.4499,-92.7252\"/>\n<text text-anchor=\"middle\" x=\"383.9899\" y=\"-93.2164\" font-family=\"Arial\" font-size=\"16.00\" fill=\"#000000\">p = 1 &#160;reward =0.5</text>\n</g>\n<!-- s1&#45;a0&#45;&gt;s0 -->\n<g id=\"edge9\" class=\"edge\">\n<title>s1&#45;a0&#45;&gt;s0</title>\n<path fill=\"none\" stroke=\"#0000ff\" stroke-dasharray=\"5,2\" d=\"M772.1773,-36.2142C765.9128,-34.2007 759.194,-32.3049 752.8255,-31.0164 693.8221,-19.0789 677.9746,-22.4629 617.8255,-20.0164 452.6332,-13.2975 405.9414,21.2116 245.8356,-20.0164 210.6934,-29.0657 175.0435,-47.0663 145.497,-64.915\"/>\n<polygon fill=\"#0000ff\" stroke=\"#0000ff\" points=\"143.613,-61.9647 136.9319,-70.1874 147.2826,-67.9258 143.613,-61.9647\"/>\n<text text-anchor=\"middle\" x=\"383.9899\" y=\"-10.2164\" font-family=\"Arial\" font-size=\"16.00\" fill=\"#000000\">p = 0.5</text>\n</g>\n<!-- s1&#45;a0&#45;&gt;s1 -->\n<g id=\"edge10\" class=\"edge\">\n<title>s1&#45;a0&#45;&gt;s1</title>\n<path fill=\"none\" stroke=\"#0000ff\" stroke-dasharray=\"5,2\" d=\"M771.2604,-40.594C738.4232,-35.1428 681.8231,-29.3285 635.8255,-43.0164 627.4624,-45.5051 619.15,-49.0067 611.1294,-53.0877\"/>\n<polygon fill=\"#0000ff\" stroke=\"#0000ff\" points=\"609.3368,-50.0782 602.2107,-57.9184 612.6707,-56.2333 609.3368,-50.0782\"/>\n<text text-anchor=\"middle\" x=\"694.3255\" y=\"-48.2164\" font-family=\"Arial\" font-size=\"16.00\" fill=\"#000000\">p = 0.5</text>\n</g>\n<!-- s1&#45;a1&#45;&gt;s1 -->\n<g id=\"edge12\" class=\"edge\">\n<title>s1&#45;a1&#45;&gt;s1</title>\n<path fill=\"none\" stroke=\"#0000ff\" stroke-dasharray=\"5,2\" d=\"M770.7591,-126.1225C738.3872,-123.8313 683.1646,-119.6946 635.8255,-115.0164 633.1008,-114.7472 630.3324,-114.466 627.5376,-114.1757\"/>\n<polygon fill=\"#0000ff\" stroke=\"#0000ff\" points=\"627.6484,-110.6678 617.3339,-113.0889 626.907,-117.6284 627.6484,-110.6678\"/>\n<text text-anchor=\"middle\" x=\"694.3255\" y=\"-130.2164\" font-family=\"Arial\" font-size=\"16.00\" fill=\"#000000\">p = 1 &#160;reward =1</text>\n</g>\n</g>\n</svg>\n"
          },
          "metadata": {
            "tags": []
          }
        }
      ]
    },
    {
      "cell_type": "code",
      "metadata": {
        "id": "CzCWh90pULlS"
      },
      "source": [
        "def get_optimal_action(mdp, state_values, state, gamma):\n",
        "    if mdp.is_terminal(state):\n",
        "        return None\n",
        "    \n",
        "    action_values = [get_action_value(mdp, state_values, state, action, gamma) for action in mdp.get_possible_actions(state)]\n",
        "    argmax_index = np.argmax(action_values)\n",
        "    return mdp.get_possible_actions(state)[argmax_index]"
      ],
      "execution_count": 16,
      "outputs": []
    },
    {
      "cell_type": "code",
      "metadata": {
        "id": "ESIcgkmGULoa",
        "colab": {
          "base_uri": "https://localhost:8080/",
          "height": 292
        },
        "outputId": "db927c00-e567-4563-b0d8-20aa2d6ec8db"
      },
      "source": [
        "if has_graphviz:\n",
        "    from mdp import plot_graph_optimal_strategy_and_state_values\n",
        "    display(plot_graph_optimal_strategy_and_state_values(mdp, state_values, get_action_value))"
      ],
      "execution_count": 17,
      "outputs": [
        {
          "output_type": "display_data",
          "data": {
            "text/plain": [
              "<graphviz.dot.Digraph at 0x7f5838314450>"
            ],
            "image/svg+xml": "<?xml version=\"1.0\" encoding=\"UTF-8\" standalone=\"no\"?>\n<!DOCTYPE svg PUBLIC \"-//W3C//DTD SVG 1.1//EN\"\n \"http://www.w3.org/Graphics/SVG/1.1/DTD/svg11.dtd\">\n<!-- Generated by graphviz version 2.40.1 (20161225.0304)\n -->\n<!-- Title: MDP Pages: 1 -->\n<svg width=\"720pt\" height=\"203pt\"\n viewBox=\"0.00 0.00 720.00 203.44\" xmlns=\"http://www.w3.org/2000/svg\" xmlns:xlink=\"http://www.w3.org/1999/xlink\">\n<g id=\"graph0\" class=\"graph\" transform=\"scale(.8633 .8633) rotate(0) translate(4 231.6499)\">\n<title>MDP</title>\n<polygon fill=\"#ffffff\" stroke=\"transparent\" points=\"-4,4 -4,-231.6499 829.9798,-231.6499 829.9798,4 -4,4\"/>\n<!-- s0 -->\n<g id=\"node1\" class=\"node\">\n<title>s0</title>\n<ellipse fill=\"#85ff75\" stroke=\"#85ff75\" cx=\"75.4178\" cy=\"-96.0727\" rx=\"71.34\" ry=\"71.34\"/>\n<ellipse fill=\"none\" stroke=\"#85ff75\" cx=\"75.4178\" cy=\"-96.0727\" rx=\"75.3357\" ry=\"75.3357\"/>\n<text text-anchor=\"middle\" x=\"75.4178\" y=\"-102.8727\" font-family=\"Arial\" font-size=\"24.00\" fill=\"#000000\">s0</text>\n<text text-anchor=\"middle\" x=\"75.4178\" y=\"-76.8727\" font-family=\"Arial\" font-size=\"24.00\" fill=\"#000000\">V =19.3</text>\n</g>\n<!-- s0&#45;a0 -->\n<g id=\"node2\" class=\"node\">\n<title>s0&#45;a0</title>\n<ellipse fill=\"#ffb6c1\" stroke=\"#ffb6c1\" cx=\"273.4127\" cy=\"-200.0727\" rx=\"27.6545\" ry=\"27.6545\"/>\n<text text-anchor=\"middle\" x=\"273.4127\" y=\"-195.0727\" font-family=\"Arial\" font-size=\"20.00\" fill=\"#000000\">a0</text>\n</g>\n<!-- s0&#45;&gt;s0&#45;a0 -->\n<g id=\"edge1\" class=\"edge\">\n<title>s0&#45;&gt;s0&#45;a0</title>\n<path fill=\"none\" stroke=\"#ff0000\" stroke-width=\"2\" d=\"M124.9477,-153.0405C138.0613,-165.0247 153.0142,-176.3581 168.8356,-184.0727 189.4551,-194.1269 214.8473,-198.179 235.4472,-199.6925\"/>\n<polygon fill=\"#ff0000\" stroke=\"#ff0000\" stroke-width=\"2\" points=\"235.2494,-203.1868 245.4317,-200.2589 235.646,-196.198 235.2494,-203.1868\"/>\n</g>\n<!-- s0&#45;a1 -->\n<g id=\"node4\" class=\"node\">\n<title>s0&#45;a1</title>\n<ellipse fill=\"#ffb6c1\" stroke=\"#ffb6c1\" cx=\"273.4127\" cy=\"-127.0727\" rx=\"27.6545\" ry=\"27.6545\"/>\n<text text-anchor=\"middle\" x=\"273.4127\" y=\"-122.0727\" font-family=\"Arial\" font-size=\"20.00\" fill=\"#000000\">a1</text>\n</g>\n<!-- s0&#45;&gt;s0&#45;a1 -->\n<g id=\"edge4\" class=\"edge\">\n<title>s0&#45;&gt;s0&#45;a1</title>\n<path fill=\"none\" stroke=\"#ff0000\" stroke-width=\"2\" d=\"M149.2505,-111.7026C155.8602,-112.916 162.4607,-114.0606 168.8356,-115.0727 190.8664,-118.5704 215.6634,-121.4608 235.5801,-123.5278\"/>\n<polygon fill=\"#ff0000\" stroke=\"#ff0000\" stroke-width=\"2\" points=\"235.4999,-127.0375 245.8013,-124.5613 236.2042,-120.073 235.4999,-127.0375\"/>\n</g>\n<!-- s0&#45;a2 -->\n<g id=\"node5\" class=\"node\">\n<title>s0&#45;a2</title>\n<ellipse fill=\"#ffb6c1\" stroke=\"#ffb6c1\" cx=\"273.4127\" cy=\"-54.0727\" rx=\"27.6545\" ry=\"27.6545\"/>\n<text text-anchor=\"middle\" x=\"273.4127\" y=\"-49.0727\" font-family=\"Arial\" font-size=\"20.00\" fill=\"#000000\">a2</text>\n</g>\n<!-- s0&#45;&gt;s0&#45;a2 -->\n<g id=\"edge6\" class=\"edge\">\n<title>s0&#45;&gt;s0&#45;a2</title>\n<path fill=\"none\" stroke=\"#ff0000\" stroke-width=\"2\" d=\"M147.739,-74.2042C177.5103,-67.3805 210.7598,-60.6894 235.5773,-56.6574\"/>\n<polygon fill=\"#ff0000\" stroke=\"#ff0000\" stroke-width=\"2\" points=\"236.314,-60.0852 245.6625,-55.0996 235.2454,-53.1673 236.314,-60.0852\"/>\n</g>\n<!-- s0&#45;&gt;s0&#45;a2 -->\n<g id=\"edge13\" class=\"edge\">\n<title>s0&#45;&gt;s0&#45;a2</title>\n<path fill=\"none\" stroke=\"#00ff00\" stroke-width=\"6\" d=\"M150.2712,-86.7626C180.1672,-80.8791 213.1917,-73.4652 237.5089,-67.0315\"/>\n<polygon fill=\"#00ff00\" stroke=\"#00ff00\" stroke-width=\"6\" points=\"239.0986,-72.0397 247.363,-64.3415 236.3334,-61.9104 239.0986,-72.0397\"/>\n</g>\n<!-- s0&#45;a0&#45;&gt;s0 -->\n<g id=\"edge2\" class=\"edge\">\n<title>s0&#45;a0&#45;&gt;s0</title>\n<path fill=\"none\" stroke=\"#0000ff\" stroke-dasharray=\"5,2\" d=\"M253.0392,-180.9543C245.4822,-174.4532 236.6086,-167.4735 227.8356,-162.0727 214.4301,-153.8203 184.7345,-140.6017 155.0827,-128.1542\"/>\n<polygon fill=\"#0000ff\" stroke=\"#0000ff\" points=\"156.0544,-124.7672 145.4778,-124.1471 153.3593,-131.2276 156.0544,-124.7672\"/>\n<text text-anchor=\"middle\" x=\"198.3356\" y=\"-167.2727\" font-family=\"Arial\" font-size=\"16.00\" fill=\"#000000\">p = 0.05</text>\n</g>\n<!-- s1 -->\n<g id=\"node3\" class=\"node\">\n<title>s1</title>\n<ellipse fill=\"#85ff75\" stroke=\"#85ff75\" cx=\"542.4077\" cy=\"-101.0727\" rx=\"71.34\" ry=\"71.34\"/>\n<ellipse fill=\"none\" stroke=\"#85ff75\" cx=\"542.4077\" cy=\"-101.0727\" rx=\"75.3357\" ry=\"75.3357\"/>\n<text text-anchor=\"middle\" x=\"542.4077\" y=\"-107.8727\" font-family=\"Arial\" font-size=\"24.00\" fill=\"#000000\">s1</text>\n<text text-anchor=\"middle\" x=\"542.4077\" y=\"-81.8727\" font-family=\"Arial\" font-size=\"24.00\" fill=\"#000000\">V =19.8</text>\n</g>\n<!-- s0&#45;a0&#45;&gt;s1 -->\n<g id=\"edge3\" class=\"edge\">\n<title>s0&#45;a0&#45;&gt;s1</title>\n<path fill=\"none\" stroke=\"#0000ff\" stroke-dasharray=\"5,2\" d=\"M299.6949,-190.3999C336.9984,-176.6709 406.9053,-150.9426 462.148,-130.6112\"/>\n<polygon fill=\"#0000ff\" stroke=\"#0000ff\" points=\"463.4035,-133.8787 471.5792,-127.1402 460.9857,-127.3095 463.4035,-133.8787\"/>\n<text text-anchor=\"middle\" x=\"383.9899\" y=\"-186.2727\" font-family=\"Arial\" font-size=\"16.00\" fill=\"#000000\">p = 0.95</text>\n</g>\n<!-- s1&#45;a0 -->\n<g id=\"node6\" class=\"node\">\n<title>s1&#45;a0</title>\n<ellipse fill=\"#ffb6c1\" stroke=\"#ffb6c1\" cx=\"798.4026\" cy=\"-30.0727\" rx=\"27.6545\" ry=\"27.6545\"/>\n<text text-anchor=\"middle\" x=\"798.4026\" y=\"-25.0727\" font-family=\"Arial\" font-size=\"20.00\" fill=\"#000000\">a0</text>\n</g>\n<!-- s1&#45;&gt;s1&#45;a0 -->\n<g id=\"edge8\" class=\"edge\">\n<title>s1&#45;&gt;s1&#45;a0</title>\n<path fill=\"none\" stroke=\"#ff0000\" stroke-width=\"2\" d=\"M617.0727,-87.8693C657.8181,-79.6271 708.7892,-67.6129 752.8255,-52.0727 756.6316,-50.7296 760.5394,-49.16 764.3897,-47.4886\"/>\n<polygon fill=\"#ff0000\" stroke=\"#ff0000\" stroke-width=\"2\" points=\"766.1212,-50.5451 773.7518,-43.195 763.2031,-44.1824 766.1212,-50.5451\"/>\n</g>\n<!-- s1&#45;a1 -->\n<g id=\"node7\" class=\"node\">\n<title>s1&#45;a1</title>\n<ellipse fill=\"#ffb6c1\" stroke=\"#ffb6c1\" cx=\"798.4026\" cy=\"-103.0727\" rx=\"27.6545\" ry=\"27.6545\"/>\n<text text-anchor=\"middle\" x=\"798.4026\" y=\"-98.0727\" font-family=\"Arial\" font-size=\"20.00\" fill=\"#000000\">a1</text>\n</g>\n<!-- s1&#45;&gt;s1&#45;a1 -->\n<g id=\"edge11\" class=\"edge\">\n<title>s1&#45;&gt;s1&#45;a1</title>\n<path fill=\"none\" stroke=\"#ff0000\" stroke-width=\"2\" d=\"M617.83,-95.4459C664.812,-94.8041 723.2322,-95.6814 760.6705,-97.8246\"/>\n<polygon fill=\"#ff0000\" stroke=\"#ff0000\" stroke-width=\"2\" points=\"760.9088,-101.347 771.1128,-98.496 761.3581,-94.3615 760.9088,-101.347\"/>\n</g>\n<!-- s1&#45;&gt;s1&#45;a1 -->\n<g id=\"edge14\" class=\"edge\">\n<title>s1&#45;&gt;s1&#45;a1</title>\n<path fill=\"none\" stroke=\"#00ff00\" stroke-width=\"6\" d=\"M617.83,-107.878C664.812,-109.254 723.2322,-109.2895 760.6705,-107.7313\"/>\n<polygon fill=\"#00ff00\" stroke=\"#00ff00\" stroke-width=\"6\" points=\"761.3799,-112.9531 771.1128,-107.223 760.8694,-102.4655 761.3799,-112.9531\"/>\n</g>\n<!-- s0&#45;a1&#45;&gt;s0 -->\n<g id=\"edge5\" class=\"edge\">\n<title>s0&#45;a1&#45;&gt;s0</title>\n<path fill=\"none\" stroke=\"#0000ff\" stroke-dasharray=\"5,2\" d=\"M253.2519,-107.6882C245.8486,-101.817 237.0175,-96.1202 227.8356,-93.0727 206.5972,-86.0236 182.7617,-83.958 160.3615,-84.3531\"/>\n<polygon fill=\"#0000ff\" stroke=\"#0000ff\" points=\"160.0604,-80.8612 150.1849,-84.6987 160.298,-87.8572 160.0604,-80.8612\"/>\n<text text-anchor=\"middle\" x=\"198.3356\" y=\"-98.2727\" font-family=\"Arial\" font-size=\"16.00\" fill=\"#000000\">p = 1</text>\n</g>\n<!-- s0&#45;a2&#45;&gt;s1 -->\n<g id=\"edge7\" class=\"edge\">\n<title>s0&#45;a2&#45;&gt;s1</title>\n<path fill=\"none\" stroke=\"#0000ff\" stroke-dasharray=\"5,2\" d=\"M300.6857,-58.838C337.2763,-65.2313 403.9124,-76.8742 457.9665,-86.3188\"/>\n<polygon fill=\"#0000ff\" stroke=\"#0000ff\" points=\"457.4499,-89.7815 467.9031,-88.055 458.6548,-82.8859 457.4499,-89.7815\"/>\n<text text-anchor=\"middle\" x=\"383.9899\" y=\"-90.2727\" font-family=\"Arial\" font-size=\"16.00\" fill=\"#000000\">p = 1 &#160;reward =0.5</text>\n</g>\n<!-- s1&#45;a0&#45;&gt;s0 -->\n<g id=\"edge9\" class=\"edge\">\n<title>s1&#45;a0&#45;&gt;s0</title>\n<path fill=\"none\" stroke=\"#0000ff\" stroke-dasharray=\"5,2\" d=\"M772.2011,-20.57C765.9357,-18.7054 759.2104,-17.0313 752.8255,-16.0727 701.4017,-8.3528 687.8254,-16.0061 635.8255,-16.0727 462.4962,-16.295 415.0506,20.4689 245.8356,-17.0727 212.9424,-24.3703 178.8417,-38.6452 149.8658,-53.0769\"/>\n<polygon fill=\"#0000ff\" stroke=\"#0000ff\" points=\"147.9772,-50.1104 140.6461,-57.7593 151.147,-56.3516 147.9772,-50.1104\"/>\n<text text-anchor=\"middle\" x=\"383.9899\" y=\"-10.2727\" font-family=\"Arial\" font-size=\"16.00\" fill=\"#000000\">p = 0.5</text>\n</g>\n<!-- s1&#45;a0&#45;&gt;s1 -->\n<g id=\"edge10\" class=\"edge\">\n<title>s1&#45;a0&#45;&gt;s1</title>\n<path fill=\"none\" stroke=\"#0000ff\" stroke-dasharray=\"5,2\" d=\"M771.0824,-24.8864C738.07,-19.7804 681.2973,-14.7539 635.8255,-30.0727 625.701,-33.4835 615.804,-38.4767 606.4664,-44.2606\"/>\n<polygon fill=\"#0000ff\" stroke=\"#0000ff\" points=\"604.5027,-41.3629 598.0578,-49.7721 608.34,-47.2174 604.5027,-41.3629\"/>\n<text text-anchor=\"middle\" x=\"694.3255\" y=\"-35.2727\" font-family=\"Arial\" font-size=\"16.00\" fill=\"#000000\">p = 0.5</text>\n</g>\n<!-- s1&#45;a1&#45;&gt;s1 -->\n<g id=\"edge12\" class=\"edge\">\n<title>s1&#45;a1&#45;&gt;s1</title>\n<path fill=\"none\" stroke=\"#0000ff\" stroke-dasharray=\"5,2\" d=\"M773.3563,-114.9078C766.8176,-117.453 759.6786,-119.7685 752.8255,-121.0727 711.4612,-128.945 664.9037,-125.742 626.1187,-119.8106\"/>\n<polygon fill=\"#0000ff\" stroke=\"#0000ff\" points=\"626.3469,-116.3021 615.9165,-118.161 625.2296,-123.2123 626.3469,-116.3021\"/>\n<text text-anchor=\"middle\" x=\"694.3255\" y=\"-131.2727\" font-family=\"Arial\" font-size=\"16.00\" fill=\"#000000\">p = 1 &#160;reward =1</text>\n</g>\n</g>\n</svg>\n"
          },
          "metadata": {
            "tags": []
          }
        }
      ]
    },
    {
      "cell_type": "code",
      "metadata": {
        "colab": {
          "base_uri": "https://localhost:8080/"
        },
        "id": "9jhYi5sGRnC4",
        "outputId": "9818d86f-cc86-414e-f63f-6952ca765910"
      },
      "source": [
        "s = mdp.reset()\n",
        "mdp.render()\n",
        "\n",
        "for t in range(100):\n",
        "    a = get_optimal_action(mdp, state_values, s, gamma)\n",
        "    s, r, done, _ = mdp.step(a)\n",
        "    print(t, a, r)\n",
        "    mdp.render()\n",
        "    \n",
        "    if done:\n",
        "        break"
      ],
      "execution_count": 18,
      "outputs": [
        {
          "output_type": "stream",
          "text": [
            "Currently at s0\n",
            "0 a2 0.5\n",
            "Currently at s1\n",
            "1 a1 1\n",
            "Currently at s1\n",
            "2 a1 1\n",
            "Currently at s1\n",
            "3 a1 1\n",
            "Currently at s1\n",
            "4 a1 1\n",
            "Currently at s1\n",
            "5 a1 1\n",
            "Currently at s1\n",
            "6 a1 1\n",
            "Currently at s1\n",
            "7 a1 1\n",
            "Currently at s1\n",
            "8 a1 1\n",
            "Currently at s1\n",
            "9 a1 1\n",
            "Currently at s1\n",
            "10 a1 1\n",
            "Currently at s1\n",
            "11 a1 1\n",
            "Currently at s1\n",
            "12 a1 1\n",
            "Currently at s1\n",
            "13 a1 1\n",
            "Currently at s1\n",
            "14 a1 1\n",
            "Currently at s1\n",
            "15 a1 1\n",
            "Currently at s1\n",
            "16 a1 1\n",
            "Currently at s1\n",
            "17 a1 1\n",
            "Currently at s1\n",
            "18 a1 1\n",
            "Currently at s1\n",
            "19 a1 1\n",
            "Currently at s1\n",
            "20 a1 1\n",
            "Currently at s1\n",
            "21 a1 1\n",
            "Currently at s1\n",
            "22 a1 1\n",
            "Currently at s1\n",
            "23 a1 1\n",
            "Currently at s1\n",
            "24 a1 1\n",
            "Currently at s1\n",
            "25 a1 1\n",
            "Currently at s1\n",
            "26 a1 1\n",
            "Currently at s1\n",
            "27 a1 1\n",
            "Currently at s1\n",
            "28 a1 1\n",
            "Currently at s1\n",
            "29 a1 1\n",
            "Currently at s1\n",
            "30 a1 1\n",
            "Currently at s1\n",
            "31 a1 1\n",
            "Currently at s1\n",
            "32 a1 1\n",
            "Currently at s1\n",
            "33 a1 1\n",
            "Currently at s1\n",
            "34 a1 1\n",
            "Currently at s1\n",
            "35 a1 1\n",
            "Currently at s1\n",
            "36 a1 1\n",
            "Currently at s1\n",
            "37 a1 1\n",
            "Currently at s1\n",
            "38 a1 1\n",
            "Currently at s1\n",
            "39 a1 1\n",
            "Currently at s1\n",
            "40 a1 1\n",
            "Currently at s1\n",
            "41 a1 1\n",
            "Currently at s1\n",
            "42 a1 1\n",
            "Currently at s1\n",
            "43 a1 1\n",
            "Currently at s1\n",
            "44 a1 1\n",
            "Currently at s1\n",
            "45 a1 1\n",
            "Currently at s1\n",
            "46 a1 1\n",
            "Currently at s1\n",
            "47 a1 1\n",
            "Currently at s1\n",
            "48 a1 1\n",
            "Currently at s1\n",
            "49 a1 1\n",
            "Currently at s1\n",
            "50 a1 1\n",
            "Currently at s1\n",
            "51 a1 1\n",
            "Currently at s1\n",
            "52 a1 1\n",
            "Currently at s1\n",
            "53 a1 1\n",
            "Currently at s1\n",
            "54 a1 1\n",
            "Currently at s1\n",
            "55 a1 1\n",
            "Currently at s1\n",
            "56 a1 1\n",
            "Currently at s1\n",
            "57 a1 1\n",
            "Currently at s1\n",
            "58 a1 1\n",
            "Currently at s1\n",
            "59 a1 1\n",
            "Currently at s1\n",
            "60 a1 1\n",
            "Currently at s1\n",
            "61 a1 1\n",
            "Currently at s1\n",
            "62 a1 1\n",
            "Currently at s1\n",
            "63 a1 1\n",
            "Currently at s1\n",
            "64 a1 1\n",
            "Currently at s1\n",
            "65 a1 1\n",
            "Currently at s1\n",
            "66 a1 1\n",
            "Currently at s1\n",
            "67 a1 1\n",
            "Currently at s1\n",
            "68 a1 1\n",
            "Currently at s1\n",
            "69 a1 1\n",
            "Currently at s1\n",
            "70 a1 1\n",
            "Currently at s1\n",
            "71 a1 1\n",
            "Currently at s1\n",
            "72 a1 1\n",
            "Currently at s1\n",
            "73 a1 1\n",
            "Currently at s1\n",
            "74 a1 1\n",
            "Currently at s1\n",
            "75 a1 1\n",
            "Currently at s1\n",
            "76 a1 1\n",
            "Currently at s1\n",
            "77 a1 1\n",
            "Currently at s1\n",
            "78 a1 1\n",
            "Currently at s1\n",
            "79 a1 1\n",
            "Currently at s1\n",
            "80 a1 1\n",
            "Currently at s1\n",
            "81 a1 1\n",
            "Currently at s1\n",
            "82 a1 1\n",
            "Currently at s1\n",
            "83 a1 1\n",
            "Currently at s1\n",
            "84 a1 1\n",
            "Currently at s1\n",
            "85 a1 1\n",
            "Currently at s1\n",
            "86 a1 1\n",
            "Currently at s1\n",
            "87 a1 1\n",
            "Currently at s1\n",
            "88 a1 1\n",
            "Currently at s1\n",
            "89 a1 1\n",
            "Currently at s1\n",
            "90 a1 1\n",
            "Currently at s1\n",
            "91 a1 1\n",
            "Currently at s1\n",
            "92 a1 1\n",
            "Currently at s1\n",
            "93 a1 1\n",
            "Currently at s1\n",
            "94 a1 1\n",
            "Currently at s1\n",
            "95 a1 1\n",
            "Currently at s1\n",
            "96 a1 1\n",
            "Currently at s1\n",
            "97 a1 1\n",
            "Currently at s1\n",
            "98 a1 1\n",
            "Currently at s1\n",
            "99 a1 1\n",
            "Currently at s1\n"
          ],
          "name": "stdout"
        }
      ]
    },
    {
      "cell_type": "code",
      "metadata": {
        "id": "AOU1l1sHRnFr",
        "colab": {
          "base_uri": "https://localhost:8080/"
        },
        "outputId": "cfd63f52-874c-4940-99b7-f23146e2c14b"
      },
      "source": [
        "mdp.render()"
      ],
      "execution_count": 19,
      "outputs": [
        {
          "output_type": "stream",
          "text": [
            "Currently at s1\n"
          ],
          "name": "stdout"
        }
      ]
    },
    {
      "cell_type": "code",
      "metadata": {
        "id": "fx3R4J6yRnIq",
        "colab": {
          "base_uri": "https://localhost:8080/",
          "height": 186
        },
        "outputId": "e7178405-3130-4d45-b945-834786db7ca5"
      },
      "source": [
        "transition_probs = {\n",
        "    'S_start': {\n",
        "        'a': {'S_1': 1.0},\n",
        "        'b': {'S_2': 1.0}\n",
        "    },\n",
        "\n",
        "    'S_goal': {\n",
        "    },\n",
        "    \n",
        "    'S_1': {\n",
        "        'a': {'S_3': 1.0}\n",
        "    },\n",
        "    \n",
        "    'S_2': {\n",
        "        'b': {'S_3': 1.0}\n",
        "        },\n",
        "    \n",
        "    'S_3': {\n",
        "        'a': {'S_goal': 1.0},\n",
        "        'b': {'S_goal': 1.0}\n",
        "    }\n",
        "}\n",
        "rewards = {\n",
        "    'S_3': {'a': {'S_goal': +100}},\n",
        "    'S_1': {'a': {'S_3': +10}},\n",
        "    'S_2': {'b': {'S_3': -10}}\n",
        "}\n",
        "\n",
        "\n",
        "mdp = MDP(transition_probs, rewards, initial_state='S_start')\n",
        "display(plot_graph(mdp))"
      ],
      "execution_count": 20,
      "outputs": [
        {
          "output_type": "display_data",
          "data": {
            "text/plain": [
              "<graphviz.dot.Digraph at 0x7f582aed2490>"
            ],
            "image/svg+xml": "<?xml version=\"1.0\" encoding=\"UTF-8\" standalone=\"no\"?>\n<!DOCTYPE svg PUBLIC \"-//W3C//DTD SVG 1.1//EN\"\n \"http://www.w3.org/Graphics/SVG/1.1/DTD/svg11.dtd\">\n<!-- Generated by graphviz version 2.40.1 (20161225.0304)\n -->\n<!-- Title: MDP Pages: 1 -->\n<svg width=\"720pt\" height=\"124pt\"\n viewBox=\"0.00 0.00 720.00 123.64\" xmlns=\"http://www.w3.org/2000/svg\" xmlns:xlink=\"http://www.w3.org/1999/xlink\">\n<g id=\"graph0\" class=\"graph\" transform=\"scale(.6647 .6647) rotate(0) translate(4 182)\">\n<title>MDP</title>\n<polygon fill=\"#ffffff\" stroke=\"transparent\" points=\"-4,4 -4,-182 1079.1536,-182 1079.1536,4 -4,4\"/>\n<!-- S_start -->\n<g id=\"node1\" class=\"node\">\n<title>S_start</title>\n<ellipse fill=\"#85ff75\" stroke=\"#85ff75\" cx=\"56.7522\" cy=\"-97\" rx=\"52.5229\" ry=\"52.5229\"/>\n<ellipse fill=\"none\" stroke=\"#85ff75\" cx=\"56.7522\" cy=\"-97\" rx=\"56.5055\" ry=\"56.5055\"/>\n<text text-anchor=\"middle\" x=\"56.7522\" y=\"-90.8\" font-family=\"Arial\" font-size=\"24.00\" fill=\"#000000\">S_start</text>\n</g>\n<!-- S_start&#45;a -->\n<g id=\"node2\" class=\"node\">\n<title>S_start&#45;a</title>\n<ellipse fill=\"#ffb6c1\" stroke=\"#ffb6c1\" cx=\"171.7176\" cy=\"-130\" rx=\"21.4286\" ry=\"21.4286\"/>\n<text text-anchor=\"middle\" x=\"171.7176\" y=\"-125\" font-family=\"Arial\" font-size=\"20.00\" fill=\"#000000\">a</text>\n</g>\n<!-- S_start&#45;&gt;S_start&#45;a -->\n<g id=\"edge1\" class=\"edge\">\n<title>S_start&#45;&gt;S_start&#45;a</title>\n<path fill=\"none\" stroke=\"#ff0000\" stroke-width=\"2\" d=\"M111.5413,-112.7268C121.794,-115.6698 132.1613,-118.6456 141.3345,-121.2788\"/>\n<polygon fill=\"#ff0000\" stroke=\"#ff0000\" stroke-width=\"2\" points=\"140.5368,-124.691 151.1144,-124.086 142.4682,-117.9627 140.5368,-124.691\"/>\n</g>\n<!-- S_start&#45;b -->\n<g id=\"node4\" class=\"node\">\n<title>S_start&#45;b</title>\n<ellipse fill=\"#ffb6c1\" stroke=\"#ffb6c1\" cx=\"171.7176\" cy=\"-68\" rx=\"21.4286\" ry=\"21.4286\"/>\n<text text-anchor=\"middle\" x=\"171.7176\" y=\"-63\" font-family=\"Arial\" font-size=\"20.00\" fill=\"#000000\">b</text>\n</g>\n<!-- S_start&#45;&gt;S_start&#45;b -->\n<g id=\"edge3\" class=\"edge\">\n<title>S_start&#45;&gt;S_start&#45;b</title>\n<path fill=\"none\" stroke=\"#ff0000\" stroke-width=\"2\" d=\"M111.8778,-83.0946C121.9014,-80.5661 132.0206,-78.0136 141.0138,-75.745\"/>\n<polygon fill=\"#ff0000\" stroke=\"#ff0000\" stroke-width=\"2\" points=\"142.1402,-79.0706 150.9804,-73.231 140.4281,-72.2832 142.1402,-79.0706\"/>\n</g>\n<!-- S_1 -->\n<g id=\"node3\" class=\"node\">\n<title>S_1</title>\n<ellipse fill=\"#85ff75\" stroke=\"#85ff75\" cx=\"318.9308\" cy=\"-138\" rx=\"36\" ry=\"36\"/>\n<ellipse fill=\"none\" stroke=\"#85ff75\" cx=\"318.9308\" cy=\"-138\" rx=\"40\" ry=\"40\"/>\n<text text-anchor=\"middle\" x=\"318.9308\" y=\"-131.8\" font-family=\"Arial\" font-size=\"24.00\" fill=\"#000000\">S_1</text>\n</g>\n<!-- S_start&#45;a&#45;&gt;S_1 -->\n<g id=\"edge2\" class=\"edge\">\n<title>S_start&#45;a&#45;&gt;S_1</title>\n<path fill=\"none\" stroke=\"#0000ff\" stroke-dasharray=\"5,2\" d=\"M193.1237,-131.1633C212.906,-132.2383 243.0522,-133.8765 268.8756,-135.2799\"/>\n<polygon fill=\"#0000ff\" stroke=\"#0000ff\" points=\"268.7211,-138.7765 278.8964,-135.8244 269.101,-131.7868 268.7211,-138.7765\"/>\n<text text-anchor=\"middle\" x=\"235.9308\" y=\"-139.2\" font-family=\"Arial\" font-size=\"16.00\" fill=\"#000000\">p = 1.0</text>\n</g>\n<!-- S_1&#45;a -->\n<g id=\"node7\" class=\"node\">\n<title>S_1&#45;a</title>\n<ellipse fill=\"#ffb6c1\" stroke=\"#ffb6c1\" cx=\"417.144\" cy=\"-133\" rx=\"21.4286\" ry=\"21.4286\"/>\n<text text-anchor=\"middle\" x=\"417.144\" y=\"-128\" font-family=\"Arial\" font-size=\"20.00\" fill=\"#000000\">a</text>\n</g>\n<!-- S_1&#45;&gt;S_1&#45;a -->\n<g id=\"edge5\" class=\"edge\">\n<title>S_1&#45;&gt;S_1&#45;a</title>\n<path fill=\"none\" stroke=\"#ff0000\" stroke-width=\"2\" d=\"M359.1613,-135.9519C368.0262,-135.5006 377.2904,-135.0289 385.7458,-134.5985\"/>\n<polygon fill=\"#ff0000\" stroke=\"#ff0000\" stroke-width=\"2\" points=\"386.1234,-138.0839 395.9324,-134.0799 385.7674,-131.0929 386.1234,-138.0839\"/>\n</g>\n<!-- S_2 -->\n<g id=\"node5\" class=\"node\">\n<title>S_2</title>\n<ellipse fill=\"#85ff75\" stroke=\"#85ff75\" cx=\"318.9308\" cy=\"-40\" rx=\"36\" ry=\"36\"/>\n<ellipse fill=\"none\" stroke=\"#85ff75\" cx=\"318.9308\" cy=\"-40\" rx=\"40\" ry=\"40\"/>\n<text text-anchor=\"middle\" x=\"318.9308\" y=\"-33.8\" font-family=\"Arial\" font-size=\"24.00\" fill=\"#000000\">S_2</text>\n</g>\n<!-- S_start&#45;b&#45;&gt;S_2 -->\n<g id=\"edge4\" class=\"edge\">\n<title>S_start&#45;b&#45;&gt;S_2</title>\n<path fill=\"none\" stroke=\"#0000ff\" stroke-dasharray=\"5,2\" d=\"M192.8097,-63.9883C212.7427,-60.197 243.3967,-54.3666 269.4921,-49.4033\"/>\n<polygon fill=\"#0000ff\" stroke=\"#0000ff\" points=\"270.4375,-52.7863 279.6073,-47.4793 269.1295,-45.9096 270.4375,-52.7863\"/>\n<text text-anchor=\"middle\" x=\"235.9308\" y=\"-66.2\" font-family=\"Arial\" font-size=\"16.00\" fill=\"#000000\">p = 1.0</text>\n</g>\n<!-- S_2&#45;b -->\n<g id=\"node9\" class=\"node\">\n<title>S_2&#45;b</title>\n<ellipse fill=\"#ffb6c1\" stroke=\"#ffb6c1\" cx=\"417.144\" cy=\"-68\" rx=\"21.4286\" ry=\"21.4286\"/>\n<text text-anchor=\"middle\" x=\"417.144\" y=\"-63\" font-family=\"Arial\" font-size=\"20.00\" fill=\"#000000\">b</text>\n</g>\n<!-- S_2&#45;&gt;S_2&#45;b -->\n<g id=\"edge7\" class=\"edge\">\n<title>S_2&#45;&gt;S_2&#45;b</title>\n<path fill=\"none\" stroke=\"#ff0000\" stroke-width=\"2\" d=\"M357.4654,-50.986C367.1487,-53.7466 377.4078,-56.6714 386.6381,-59.3029\"/>\n<polygon fill=\"#ff0000\" stroke=\"#ff0000\" stroke-width=\"2\" points=\"385.9602,-62.7491 396.5366,-62.125 387.8794,-56.0173 385.9602,-62.7491\"/>\n</g>\n<!-- S_goal -->\n<g id=\"node6\" class=\"node\">\n<title>S_goal</title>\n<ellipse fill=\"#85ff75\" stroke=\"#85ff75\" cx=\"1018.9686\" cy=\"-97\" rx=\"52.3574\" ry=\"52.3574\"/>\n<ellipse fill=\"none\" stroke=\"#85ff75\" cx=\"1018.9686\" cy=\"-97\" rx=\"56.3706\" ry=\"56.3706\"/>\n<text text-anchor=\"middle\" x=\"1018.9686\" y=\"-90.8\" font-family=\"Arial\" font-size=\"24.00\" fill=\"#000000\">S_goal</text>\n</g>\n<!-- S_3 -->\n<g id=\"node8\" class=\"node\">\n<title>S_3</title>\n<ellipse fill=\"#85ff75\" stroke=\"#85ff75\" cx=\"659.3572\" cy=\"-97\" rx=\"36\" ry=\"36\"/>\n<ellipse fill=\"none\" stroke=\"#85ff75\" cx=\"659.3572\" cy=\"-97\" rx=\"40\" ry=\"40\"/>\n<text text-anchor=\"middle\" x=\"659.3572\" y=\"-90.8\" font-family=\"Arial\" font-size=\"24.00\" fill=\"#000000\">S_3</text>\n</g>\n<!-- S_1&#45;a&#45;&gt;S_3 -->\n<g id=\"edge6\" class=\"edge\">\n<title>S_1&#45;a&#45;&gt;S_3</title>\n<path fill=\"none\" stroke=\"#0000ff\" stroke-dasharray=\"5,2\" d=\"M438.2152,-129.8682C476.0888,-124.2391 556.6254,-112.269 609.3417,-104.4338\"/>\n<polygon fill=\"#0000ff\" stroke=\"#0000ff\" points=\"610.1164,-107.8572 619.4932,-102.925 609.0873,-100.9332 610.1164,-107.8572\"/>\n<text text-anchor=\"middle\" x=\"528.8572\" y=\"-131.2\" font-family=\"Arial\" font-size=\"16.00\" fill=\"#000000\">p = 1.0 &#160;reward =10</text>\n</g>\n<!-- S_3&#45;a -->\n<g id=\"node10\" class=\"node\">\n<title>S_3&#45;a</title>\n<ellipse fill=\"#ffb6c1\" stroke=\"#ffb6c1\" cx=\"757.5705\" cy=\"-128\" rx=\"21.4286\" ry=\"21.4286\"/>\n<text text-anchor=\"middle\" x=\"757.5705\" y=\"-123\" font-family=\"Arial\" font-size=\"20.00\" fill=\"#000000\">a</text>\n</g>\n<!-- S_3&#45;&gt;S_3&#45;a -->\n<g id=\"edge9\" class=\"edge\">\n<title>S_3&#45;&gt;S_3&#45;a</title>\n<path fill=\"none\" stroke=\"#ff0000\" stroke-width=\"2\" d=\"M697.6103,-109.0742C707.4987,-112.1954 718.0053,-115.5117 727.4152,-118.4818\"/>\n<polygon fill=\"#ff0000\" stroke=\"#ff0000\" stroke-width=\"2\" points=\"726.5246,-121.8708 737.1144,-121.5432 728.6316,-115.1955 726.5246,-121.8708\"/>\n</g>\n<!-- S_3&#45;b -->\n<g id=\"node11\" class=\"node\">\n<title>S_3&#45;b</title>\n<ellipse fill=\"#ffb6c1\" stroke=\"#ffb6c1\" cx=\"757.5705\" cy=\"-68\" rx=\"21.4286\" ry=\"21.4286\"/>\n<text text-anchor=\"middle\" x=\"757.5705\" y=\"-63\" font-family=\"Arial\" font-size=\"20.00\" fill=\"#000000\">b</text>\n</g>\n<!-- S_3&#45;&gt;S_3&#45;b -->\n<g id=\"edge11\" class=\"edge\">\n<title>S_3&#45;&gt;S_3&#45;b</title>\n<path fill=\"none\" stroke=\"#ff0000\" stroke-width=\"2\" d=\"M697.8918,-85.6217C707.6793,-82.7317 718.0549,-79.668 727.3619,-76.9199\"/>\n<polygon fill=\"#ff0000\" stroke=\"#ff0000\" stroke-width=\"2\" points=\"728.3636,-80.2736 736.963,-74.0849 726.3812,-73.5601 728.3636,-80.2736\"/>\n</g>\n<!-- S_2&#45;b&#45;&gt;S_3 -->\n<g id=\"edge8\" class=\"edge\">\n<title>S_2&#45;b&#45;&gt;S_3</title>\n<path fill=\"none\" stroke=\"#0000ff\" stroke-dasharray=\"5,2\" d=\"M438.5474,-68.6625C473.0225,-69.9713 542.9034,-73.6238 601.3572,-83 604.3793,-83.4847 607.4763,-84.0441 610.5909,-84.6544\"/>\n<polygon fill=\"#0000ff\" stroke=\"#0000ff\" points=\"610.0204,-88.1109 620.5272,-86.7478 611.4636,-81.2613 610.0204,-88.1109\"/>\n<text text-anchor=\"middle\" x=\"528.8572\" y=\"-88.2\" font-family=\"Arial\" font-size=\"16.00\" fill=\"#000000\">p = 1.0 &#160;reward =&#45;10</text>\n</g>\n<!-- S_3&#45;a&#45;&gt;S_goal -->\n<g id=\"edge10\" class=\"edge\">\n<title>S_3&#45;a&#45;&gt;S_goal</title>\n<path fill=\"none\" stroke=\"#0000ff\" stroke-dasharray=\"5,2\" d=\"M778.9618,-125.4631C816.5179,-121.0092 895.7452,-111.6134 952.9157,-104.8334\"/>\n<polygon fill=\"#0000ff\" stroke=\"#0000ff\" points=\"953.4429,-108.2955 962.9611,-103.6421 952.6185,-101.3442 953.4429,-108.2955\"/>\n<text text-anchor=\"middle\" x=\"870.7837\" y=\"-127.2\" font-family=\"Arial\" font-size=\"16.00\" fill=\"#000000\">p = 1.0 &#160;reward =100</text>\n</g>\n<!-- S_3&#45;b&#45;&gt;S_goal -->\n<g id=\"edge12\" class=\"edge\">\n<title>S_3&#45;b&#45;&gt;S_goal</title>\n<path fill=\"none\" stroke=\"#0000ff\" stroke-dasharray=\"5,2\" d=\"M778.9874,-68.9722C813.8517,-70.7216 884.9964,-74.9866 944.7837,-83 947.6456,-83.3836 950.5644,-83.8049 953.5091,-84.2545\"/>\n<polygon fill=\"#0000ff\" stroke=\"#0000ff\" points=\"953.1456,-87.741 963.5755,-85.8787 954.2607,-80.8304 953.1456,-87.741\"/>\n<text text-anchor=\"middle\" x=\"870.7837\" y=\"-88.2\" font-family=\"Arial\" font-size=\"16.00\" fill=\"#000000\">p = 1.0</text>\n</g>\n</g>\n</svg>\n"
          },
          "metadata": {
            "tags": []
          }
        }
      ]
    },
    {
      "cell_type": "code",
      "metadata": {
        "id": "5R3dxMbxRnLi",
        "colab": {
          "base_uri": "https://localhost:8080/"
        },
        "outputId": "2328a7c8-a633-4711-8d27-c6b44e703842"
      },
      "source": [
        "gamma = 0.99\n",
        "num_iter = 100\n",
        "min_diff = 0.0001\n",
        "\n",
        "state_values = {s: 0 for s in mdp.get_all_states()}\n",
        "\n",
        "for t in range(num_iter):\n",
        "\n",
        "    new_state_values = {state: get_new_state_value(mdp, state_values, state, gamma) for state in mdp.get_all_states()}\n",
        "\n",
        "    diff = max(abs(new_state_values[s] - state_values[s]) for s in mdp.get_all_states())\n",
        "\n",
        "    print(t, diff, state_values)\n",
        "\n",
        "    state_values = new_state_values\n",
        "\n",
        "    if diff < min_diff:\n",
        "        break"
      ],
      "execution_count": 21,
      "outputs": [
        {
          "output_type": "stream",
          "text": [
            "0 100.0 {'S_start': 0, 'S_goal': 0, 'S_1': 0, 'S_2': 0, 'S_3': 0}\n",
            "1 99.0 {'S_start': 0.0, 'S_goal': 0, 'S_1': 10.0, 'S_2': -10.0, 'S_3': 100.0}\n",
            "2 98.00999999999999 {'S_start': 9.9, 'S_goal': 0, 'S_1': 109.0, 'S_2': 89.0, 'S_3': 100.0}\n",
            "3 0.0 {'S_start': 107.91, 'S_goal': 0, 'S_1': 109.0, 'S_2': 89.0, 'S_3': 100.0}\n"
          ],
          "name": "stdout"
        }
      ]
    },
    {
      "cell_type": "code",
      "metadata": {
        "colab": {
          "base_uri": "https://localhost:8080/"
        },
        "id": "b8a3s8d9ELJj",
        "outputId": "3c385856-e225-49b0-9c8d-31916f17758c"
      },
      "source": [
        "s = mdp.reset()\n",
        "mdp.render()\n",
        "\n",
        "for t in range(100):\n",
        "    a = get_optimal_action(mdp, state_values, s, gamma)\n",
        "    s, r, done, _ = mdp.step(a)\n",
        "    print(t, a, r)\n",
        "    mdp.render()\n",
        "    \n",
        "    if done:\n",
        "        break"
      ],
      "execution_count": 22,
      "outputs": [
        {
          "output_type": "stream",
          "text": [
            "Currently at S_start\n",
            "0 a 0.0\n",
            "Currently at S_1\n",
            "1 a 10\n",
            "Currently at S_3\n",
            "2 a 100\n",
            "Currently at S_goal\n"
          ],
          "name": "stdout"
        }
      ]
    },
    {
      "cell_type": "code",
      "metadata": {
        "id": "-coadp8HELPx"
      },
      "source": [
        ""
      ],
      "execution_count": 22,
      "outputs": []
    },
    {
      "cell_type": "markdown",
      "metadata": {
        "id": "CsyZRAJbE4m5"
      },
      "source": [
        "zmodyfikować tabelę przejść w taki sposób, aby zmusić agenta do innego wyboru akcji, na przykład szukania lub czekania, będąc w stanie „low”\n"
      ]
    },
    {
      "cell_type": "code",
      "metadata": {
        "id": "34lqd5YiE7Jn"
      },
      "source": [
        "transition_probs = {\n",
        "    's0': {\n",
        "        'a0': {'s1': 1},\n",
        "        'a1': {'s0': 1},\n",
        "    },\n",
        "    's1': {\n",
        "        'a0': {'s0': 0.5, 's1': 0.5},\n",
        "        'a1': {'s1': 1},\n",
        "        'a2': {'s0': 1}\n",
        "    },\n",
        "}\n",
        "rewards = {\n",
        "    's0': {'a0': {'s0': +5}},\n",
        "    's1': {'a0': {'s0': +5}},\n",
        "    's1': {'a0': {'s1': +5}},\n",
        "\n",
        "    's0': {'a1': {'s0': +1}},\n",
        "    's1': {'a1': {'s1': +1}},\n",
        "\n",
        "    's0': {'a0': {'s1': 0}},\n",
        "    's1': {'a2': {'s0': +0.5}},\n",
        "}\n",
        "\n",
        "from mdp import MDP\n",
        "mdp = MDP(transition_probs, rewards, initial_state='s0')"
      ],
      "execution_count": 23,
      "outputs": []
    },
    {
      "cell_type": "code",
      "metadata": {
        "colab": {
          "base_uri": "https://localhost:8080/",
          "height": 396
        },
        "id": "PjwkzILfGrI5",
        "outputId": "5601af15-0646-4950-a969-294ac22335a6"
      },
      "source": [
        "next_state, reward, done, info = mdp.step('a1')\n",
        "from mdp import has_graphviz\n",
        "from IPython.display import display\n",
        "\n",
        "if has_graphviz:\n",
        "    from mdp import plot_graph\n",
        "    display(plot_graph(mdp))"
      ],
      "execution_count": 24,
      "outputs": [
        {
          "output_type": "display_data",
          "data": {
            "text/plain": [
              "<graphviz.dot.Digraph at 0x7f582aeed990>"
            ],
            "image/svg+xml": "<?xml version=\"1.0\" encoding=\"UTF-8\" standalone=\"no\"?>\n<!DOCTYPE svg PUBLIC \"-//W3C//DTD SVG 1.1//EN\"\n \"http://www.w3.org/Graphics/SVG/1.1/DTD/svg11.dtd\">\n<!-- Generated by graphviz version 2.40.1 (20161225.0304)\n -->\n<!-- Title: MDP Pages: 1 -->\n<svg width=\"603pt\" height=\"281pt\"\n viewBox=\"0.00 0.00 603.31 281.15\" xmlns=\"http://www.w3.org/2000/svg\" xmlns:xlink=\"http://www.w3.org/1999/xlink\">\n<g id=\"graph0\" class=\"graph\" transform=\"scale(1 1) rotate(0) translate(4 277.1543)\">\n<title>MDP</title>\n<polygon fill=\"#ffffff\" stroke=\"transparent\" points=\"-4,4 -4,-277.1543 599.3087,-277.1543 599.3087,4 -4,4\"/>\n<!-- s0 -->\n<g id=\"node1\" class=\"node\">\n<title>s0</title>\n<ellipse fill=\"#85ff75\" stroke=\"#85ff75\" cx=\"40\" cy=\"-88.5772\" rx=\"36\" ry=\"36\"/>\n<ellipse fill=\"none\" stroke=\"#85ff75\" cx=\"40\" cy=\"-88.5772\" rx=\"40\" ry=\"40\"/>\n<text text-anchor=\"middle\" x=\"40\" y=\"-82.3772\" font-family=\"Arial\" font-size=\"24.00\" fill=\"#000000\">s0</text>\n</g>\n<!-- s0&#45;a0 -->\n<g id=\"node2\" class=\"node\">\n<title>s0&#45;a0</title>\n<ellipse fill=\"#ffb6c1\" stroke=\"#ffb6c1\" cx=\"180.5772\" cy=\"-151.5772\" rx=\"27.6545\" ry=\"27.6545\"/>\n<text text-anchor=\"middle\" x=\"180.5772\" y=\"-146.5772\" font-family=\"Arial\" font-size=\"20.00\" fill=\"#000000\">a0</text>\n</g>\n<!-- s0&#45;&gt;s0&#45;a0 -->\n<g id=\"edge1\" class=\"edge\">\n<title>s0&#45;&gt;s0&#45;a0</title>\n<path fill=\"none\" stroke=\"#ff0000\" stroke-width=\"2\" d=\"M76.568,-104.9652C98.0145,-114.5765 124.95,-126.6477 146.0363,-136.0976\"/>\n<polygon fill=\"#ff0000\" stroke=\"#ff0000\" stroke-width=\"2\" points=\"144.7154,-139.341 155.2723,-140.2367 147.5781,-132.9531 144.7154,-139.341\"/>\n</g>\n<!-- s0&#45;a1 -->\n<g id=\"node4\" class=\"node\">\n<title>s0&#45;a1</title>\n<ellipse fill=\"#ffb6c1\" stroke=\"#ffb6c1\" cx=\"180.5772\" cy=\"-27.5772\" rx=\"27.6545\" ry=\"27.6545\"/>\n<text text-anchor=\"middle\" x=\"180.5772\" y=\"-22.5772\" font-family=\"Arial\" font-size=\"20.00\" fill=\"#000000\">a1</text>\n</g>\n<!-- s0&#45;&gt;s0&#45;a1 -->\n<g id=\"edge3\" class=\"edge\">\n<title>s0&#45;&gt;s0&#45;a1</title>\n<path fill=\"none\" stroke=\"#ff0000\" stroke-width=\"2\" d=\"M66.6291,-58.4126C75.7195,-49.9667 86.5146,-41.7026 98,-36.5772 111.7764,-30.4294 128.0826,-27.8031 142.5506,-26.847\"/>\n<polygon fill=\"#ff0000\" stroke=\"#ff0000\" stroke-width=\"2\" points=\"142.8545,-30.3374 152.6983,-26.4194 142.5598,-23.3436 142.8545,-30.3374\"/>\n</g>\n<!-- s1 -->\n<g id=\"node3\" class=\"node\">\n<title>s1</title>\n<ellipse fill=\"#85ff75\" stroke=\"#85ff75\" cx=\"414.1543\" cy=\"-171.5772\" rx=\"36\" ry=\"36\"/>\n<ellipse fill=\"none\" stroke=\"#85ff75\" cx=\"414.1543\" cy=\"-171.5772\" rx=\"40\" ry=\"40\"/>\n<text text-anchor=\"middle\" x=\"414.1543\" y=\"-165.3772\" font-family=\"Arial\" font-size=\"24.00\" fill=\"#000000\">s1</text>\n</g>\n<!-- s0&#45;a0&#45;&gt;s1 -->\n<g id=\"edge2\" class=\"edge\">\n<title>s0&#45;a0&#45;&gt;s1</title>\n<path fill=\"none\" stroke=\"#0000ff\" stroke-dasharray=\"5,2\" d=\"M208.2888,-153.95C246.5671,-157.2275 316.2772,-163.1965 363.8765,-167.2721\"/>\n<polygon fill=\"#0000ff\" stroke=\"#0000ff\" points=\"363.7139,-170.7709 373.9761,-168.1369 364.3112,-163.7965 363.7139,-170.7709\"/>\n<text text-anchor=\"middle\" x=\"291.1543\" y=\"-170.7772\" font-family=\"Arial\" font-size=\"16.00\" fill=\"#000000\">p = 1</text>\n</g>\n<!-- s1&#45;a0 -->\n<g id=\"node5\" class=\"node\">\n<title>s1&#45;a0</title>\n<ellipse fill=\"#ffb6c1\" stroke=\"#ffb6c1\" cx=\"567.7315\" cy=\"-245.5772\" rx=\"27.6545\" ry=\"27.6545\"/>\n<text text-anchor=\"middle\" x=\"567.7315\" y=\"-240.5772\" font-family=\"Arial\" font-size=\"20.00\" fill=\"#000000\">a0</text>\n</g>\n<!-- s1&#45;&gt;s1&#45;a0 -->\n<g id=\"edge5\" class=\"edge\">\n<title>s1&#45;&gt;s1&#45;a0</title>\n<path fill=\"none\" stroke=\"#ff0000\" stroke-width=\"2\" d=\"M438.157,-203.8984C447.5929,-214.3639 459.263,-224.9655 472.1543,-231.5772 489.8249,-240.64 511.5985,-244.314 529.8982,-245.6455\"/>\n<polygon fill=\"#ff0000\" stroke=\"#ff0000\" stroke-width=\"2\" points=\"529.7659,-249.1432 539.9358,-246.1727 530.1332,-242.1529 529.7659,-249.1432\"/>\n</g>\n<!-- s1&#45;a1 -->\n<g id=\"node6\" class=\"node\">\n<title>s1&#45;a1</title>\n<ellipse fill=\"#ffb6c1\" stroke=\"#ffb6c1\" cx=\"567.7315\" cy=\"-169.5772\" rx=\"27.6545\" ry=\"27.6545\"/>\n<text text-anchor=\"middle\" x=\"567.7315\" y=\"-164.5772\" font-family=\"Arial\" font-size=\"20.00\" fill=\"#000000\">a1</text>\n</g>\n<!-- s1&#45;&gt;s1&#45;a1 -->\n<g id=\"edge8\" class=\"edge\">\n<title>s1&#45;&gt;s1&#45;a1</title>\n<path fill=\"none\" stroke=\"#ff0000\" stroke-width=\"2\" d=\"M454.5049,-171.0517C477.7796,-170.7486 506.8683,-170.3698 529.7338,-170.072\"/>\n<polygon fill=\"#ff0000\" stroke=\"#ff0000\" stroke-width=\"2\" points=\"529.8048,-173.5715 539.7584,-169.9415 529.7136,-166.5721 529.8048,-173.5715\"/>\n</g>\n<!-- s1&#45;a2 -->\n<g id=\"node7\" class=\"node\">\n<title>s1&#45;a2</title>\n<ellipse fill=\"#ffb6c1\" stroke=\"#ffb6c1\" cx=\"567.7315\" cy=\"-91.5772\" rx=\"27.6545\" ry=\"27.6545\"/>\n<text text-anchor=\"middle\" x=\"567.7315\" y=\"-86.5772\" font-family=\"Arial\" font-size=\"20.00\" fill=\"#000000\">a2</text>\n</g>\n<!-- s1&#45;&gt;s1&#45;a2 -->\n<g id=\"edge10\" class=\"edge\">\n<title>s1&#45;&gt;s1&#45;a2</title>\n<path fill=\"none\" stroke=\"#ff0000\" stroke-width=\"2\" d=\"M449.3084,-151.897C456.8186,-147.7727 464.7264,-143.4895 472.1543,-139.5772 492.4399,-128.8924 515.3921,-117.348 533.7192,-108.2589\"/>\n<polygon fill=\"#ff0000\" stroke=\"#ff0000\" stroke-width=\"2\" points=\"535.4305,-111.3173 542.843,-103.7473 532.3276,-105.0426 535.4305,-111.3173\"/>\n</g>\n<!-- s0&#45;a1&#45;&gt;s0 -->\n<g id=\"edge4\" class=\"edge\">\n<title>s0&#45;a1&#45;&gt;s0</title>\n<path fill=\"none\" stroke=\"#0000ff\" stroke-dasharray=\"5,2\" d=\"M154.1082,-35.629C137.6887,-40.9273 116.306,-48.3813 98,-56.5772 93.3307,-58.6676 88.5329,-60.9978 83.7922,-63.4213\"/>\n<polygon fill=\"#0000ff\" stroke=\"#0000ff\" points=\"82.0127,-60.4027 74.7946,-68.1583 85.2738,-66.5967 82.0127,-60.4027\"/>\n<text text-anchor=\"middle\" x=\"116.5\" y=\"-61.7772\" font-family=\"Arial\" font-size=\"16.00\" fill=\"#000000\">p = 1</text>\n</g>\n<!-- s1&#45;a0&#45;&gt;s0 -->\n<g id=\"edge6\" class=\"edge\">\n<title>s1&#45;a0&#45;&gt;s0</title>\n<path fill=\"none\" stroke=\"#0000ff\" stroke-dasharray=\"5,2\" d=\"M540.3135,-249.7773C534.3421,-250.5266 528.0476,-251.1909 522.1543,-251.5772 499.9797,-253.0305 494.2711,-253.7392 472.1543,-251.5772 328.2567,-237.5104 282.5758,-252.7215 153,-188.5772 122.5478,-173.5023 93.9454,-148.0321 73.1358,-126.5704\"/>\n<polygon fill=\"#0000ff\" stroke=\"#0000ff\" points=\"75.5334,-124.0124 66.1099,-119.17 70.4568,-128.832 75.5334,-124.0124\"/>\n<text text-anchor=\"middle\" x=\"291.1543\" y=\"-247.7772\" font-family=\"Arial\" font-size=\"16.00\" fill=\"#000000\">p = 0.5</text>\n</g>\n<!-- s1&#45;a0&#45;&gt;s1 -->\n<g id=\"edge7\" class=\"edge\">\n<title>s1&#45;a0&#45;&gt;s1</title>\n<path fill=\"none\" stroke=\"#0000ff\" stroke-dasharray=\"5,2\" d=\"M546.9694,-226.8127C539.5178,-220.7373 530.81,-214.3444 522.1543,-209.5772 503.6214,-199.3699 481.8283,-191.0812 462.6903,-184.8803\"/>\n<polygon fill=\"#0000ff\" stroke=\"#0000ff\" points=\"463.5449,-181.4803 452.9558,-181.8288 461.451,-188.1598 463.5449,-181.4803\"/>\n<text text-anchor=\"middle\" x=\"497.1543\" y=\"-214.7772\" font-family=\"Arial\" font-size=\"16.00\" fill=\"#000000\">p = 0.5</text>\n</g>\n<!-- s1&#45;a1&#45;&gt;s1 -->\n<g id=\"edge9\" class=\"edge\">\n<title>s1&#45;a1&#45;&gt;s1</title>\n<path fill=\"none\" stroke=\"#0000ff\" stroke-dasharray=\"5,2\" d=\"M543.8739,-155.5863C537.0809,-152.2975 529.5203,-149.2619 522.1543,-147.5772 500.4915,-142.6224 493.9503,-143.2457 472.1543,-147.5772 468.066,-148.3896 463.9045,-149.4951 459.7831,-150.7879\"/>\n<polygon fill=\"#0000ff\" stroke=\"#0000ff\" points=\"458.5839,-147.4992 450.2922,-154.0945 460.887,-154.1095 458.5839,-147.4992\"/>\n<text text-anchor=\"middle\" x=\"497.1543\" y=\"-152.7772\" font-family=\"Arial\" font-size=\"16.00\" fill=\"#000000\">p = 1</text>\n</g>\n<!-- s1&#45;a2&#45;&gt;s0 -->\n<g id=\"edge11\" class=\"edge\">\n<title>s1&#45;a2&#45;&gt;s0</title>\n<path fill=\"none\" stroke=\"#0000ff\" stroke-dasharray=\"5,2\" d=\"M540.0606,-91.4199C455.46,-90.9389 199.3863,-89.4832 90.1963,-88.8625\"/>\n<polygon fill=\"#0000ff\" stroke=\"#0000ff\" points=\"90.1186,-85.3621 80.0988,-88.8051 90.0787,-92.362 90.1186,-85.3621\"/>\n<text text-anchor=\"middle\" x=\"291.1543\" y=\"-94.7772\" font-family=\"Arial\" font-size=\"16.00\" fill=\"#000000\">p = 1 &#160;reward =0.5</text>\n</g>\n</g>\n</svg>\n"
          },
          "metadata": {
            "tags": []
          }
        }
      ]
    },
    {
      "cell_type": "code",
      "metadata": {
        "colab": {
          "base_uri": "https://localhost:8080/"
        },
        "id": "gF46ePa2G1gR",
        "outputId": "c5b16328-c1a6-4b62-f3d1-0e10fec7adcd"
      },
      "source": [
        "for t in range(200):\n",
        "  actions = ['a0', 'a1']\n",
        "  action = random.choice(actions)\n",
        "  observation, reward, done, info = mdp.step(action)\n",
        "\n",
        "print(t, observation, reward, done)"
      ],
      "execution_count": 25,
      "outputs": [
        {
          "output_type": "stream",
          "text": [
            "199 s0 0.0 False\n"
          ],
          "name": "stdout"
        }
      ]
    },
    {
      "cell_type": "code",
      "metadata": {
        "colab": {
          "base_uri": "https://localhost:8080/"
        },
        "id": "icovPetWHGUz",
        "outputId": "39087ce3-c7e0-45fe-8437-2d43dc8e4771"
      },
      "source": [
        "state = mdp.reset()\n",
        "\n",
        "for t in range(200):\n",
        "\n",
        "  action = random.choice(mdp.get_possible_actions(state))\n",
        "  observation, reward, done, info = mdp.step(action)\n",
        "  state = observation\n",
        "\n",
        "print(t, observation, reward, done)"
      ],
      "execution_count": 26,
      "outputs": [
        {
          "output_type": "stream",
          "text": [
            "199 s1 0 False\n"
          ],
          "name": "stdout"
        }
      ]
    },
    {
      "cell_type": "code",
      "metadata": {
        "colab": {
          "base_uri": "https://localhost:8080/"
        },
        "id": "kNHVu9JvHLt5",
        "outputId": "88d30a13-c793-4039-e221-f63b4c355f01"
      },
      "source": [
        "gamma = 0.98\n",
        "num_iter = 100\n",
        "min_diff = 0.001\n",
        "\n",
        "state_values = {s: 0 for s in mdp.get_all_states()}\n",
        "\n",
        "for t in range(num_iter):\n",
        "\n",
        "    new_state_values = {state: get_new_state_value(mdp, state_values, state, gamma) for state in mdp.get_all_states()}\n",
        "\n",
        "    diff = max(abs(new_state_values[s] - state_values[s]) for s in mdp.get_all_states())\n",
        "\n",
        "    state_values = new_state_values\n",
        "\n",
        "    if diff < min_diff:\n",
        "        break\n",
        "  \n",
        "print(t, diff, state_values)"
      ],
      "execution_count": 27,
      "outputs": [
        {
          "output_type": "stream",
          "text": [
            "99 0.0676630387218129 {'s0': 10.732737818474005, 's1': 10.951773284157149}\n"
          ],
          "name": "stdout"
        }
      ]
    },
    {
      "cell_type": "code",
      "metadata": {
        "colab": {
          "base_uri": "https://localhost:8080/",
          "height": 405
        },
        "id": "lpDvG82LHQLq",
        "outputId": "21cd453e-1824-46a9-d3af-658fe9155bf4"
      },
      "source": [
        "if has_graphviz:\n",
        "  from mdp import plot_graph_with_state_values\n",
        "  display(plot_graph_with_state_values(mdp, state_values))"
      ],
      "execution_count": 28,
      "outputs": [
        {
          "output_type": "display_data",
          "data": {
            "text/plain": [
              "<graphviz.dot.Digraph at 0x7f582aeeee50>"
            ],
            "image/svg+xml": "<?xml version=\"1.0\" encoding=\"UTF-8\" standalone=\"no\"?>\n<!DOCTYPE svg PUBLIC \"-//W3C//DTD SVG 1.1//EN\"\n \"http://www.w3.org/Graphics/SVG/1.1/DTD/svg11.dtd\">\n<!-- Generated by graphviz version 2.40.1 (20161225.0304)\n -->\n<!-- Title: MDP Pages: 1 -->\n<svg width=\"720pt\" height=\"288pt\"\n viewBox=\"0.00 0.00 720.00 287.60\" xmlns=\"http://www.w3.org/2000/svg\" xmlns:xlink=\"http://www.w3.org/1999/xlink\">\n<g id=\"graph0\" class=\"graph\" transform=\"scale(.9665 .9665) rotate(0) translate(4 293.5772)\">\n<title>MDP</title>\n<polygon fill=\"#ffffff\" stroke=\"transparent\" points=\"-4,4 -4,-293.5772 740.9798,-293.5772 740.9798,4 -4,4\"/>\n<!-- s0 -->\n<g id=\"node1\" class=\"node\">\n<title>s0</title>\n<ellipse fill=\"#85ff75\" stroke=\"#85ff75\" cx=\"75.4178\" cy=\"-88.5772\" rx=\"71.34\" ry=\"71.34\"/>\n<ellipse fill=\"none\" stroke=\"#85ff75\" cx=\"75.4178\" cy=\"-88.5772\" rx=\"75.3357\" ry=\"75.3357\"/>\n<text text-anchor=\"middle\" x=\"75.4178\" y=\"-95.3772\" font-family=\"Arial\" font-size=\"24.00\" fill=\"#000000\">s0</text>\n<text text-anchor=\"middle\" x=\"75.4178\" y=\"-69.3772\" font-family=\"Arial\" font-size=\"24.00\" fill=\"#000000\">V =10.7</text>\n</g>\n<!-- s0&#45;a0 -->\n<g id=\"node2\" class=\"node\">\n<title>s0&#45;a0</title>\n<ellipse fill=\"#ffb6c1\" stroke=\"#ffb6c1\" cx=\"251.4127\" cy=\"-162.5772\" rx=\"27.6545\" ry=\"27.6545\"/>\n<text text-anchor=\"middle\" x=\"251.4127\" y=\"-157.5772\" font-family=\"Arial\" font-size=\"20.00\" fill=\"#000000\">a0</text>\n</g>\n<!-- s0&#45;&gt;s0&#45;a0 -->\n<g id=\"edge1\" class=\"edge\">\n<title>s0&#45;&gt;s0&#45;a0</title>\n<path fill=\"none\" stroke=\"#ff0000\" stroke-width=\"2\" d=\"M144.9756,-117.8239C169.5274,-128.1471 196.0843,-139.3134 216.5293,-147.9099\"/>\n<polygon fill=\"#ff0000\" stroke=\"#ff0000\" stroke-width=\"2\" points=\"215.176,-151.1376 225.7509,-151.7872 217.8893,-144.6848 215.176,-151.1376\"/>\n</g>\n<!-- s0&#45;a1 -->\n<g id=\"node4\" class=\"node\">\n<title>s0&#45;a1</title>\n<ellipse fill=\"#ffb6c1\" stroke=\"#ffb6c1\" cx=\"251.4127\" cy=\"-27.5772\" rx=\"27.6545\" ry=\"27.6545\"/>\n<text text-anchor=\"middle\" x=\"251.4127\" y=\"-22.5772\" font-family=\"Arial\" font-size=\"20.00\" fill=\"#000000\">a1</text>\n</g>\n<!-- s0&#45;&gt;s0&#45;a1 -->\n<g id=\"edge3\" class=\"edge\">\n<title>s0&#45;&gt;s0&#45;a1</title>\n<path fill=\"none\" stroke=\"#ff0000\" stroke-width=\"2\" d=\"M139.5032,-48.601C149.0687,-43.9168 159.0194,-39.7026 168.8356,-36.5772 183.0999,-32.0355 199.3735,-29.6973 213.6817,-28.5222\"/>\n<polygon fill=\"#ff0000\" stroke=\"#ff0000\" stroke-width=\"2\" points=\"213.9499,-32.0122 223.696,-27.8573 213.486,-25.0276 213.9499,-32.0122\"/>\n</g>\n<!-- s1 -->\n<g id=\"node3\" class=\"node\">\n<title>s1</title>\n<ellipse fill=\"#85ff75\" stroke=\"#85ff75\" cx=\"520.4077\" cy=\"-191.5772\" rx=\"71.34\" ry=\"71.34\"/>\n<ellipse fill=\"none\" stroke=\"#85ff75\" cx=\"520.4077\" cy=\"-191.5772\" rx=\"75.3357\" ry=\"75.3357\"/>\n<text text-anchor=\"middle\" x=\"520.4077\" y=\"-198.3772\" font-family=\"Arial\" font-size=\"24.00\" fill=\"#000000\">s1</text>\n<text text-anchor=\"middle\" x=\"520.4077\" y=\"-172.3772\" font-family=\"Arial\" font-size=\"24.00\" fill=\"#000000\">V =10.9</text>\n</g>\n<!-- s0&#45;a0&#45;&gt;s1 -->\n<g id=\"edge2\" class=\"edge\">\n<title>s0&#45;a0&#45;&gt;s1</title>\n<path fill=\"none\" stroke=\"#0000ff\" stroke-dasharray=\"5,2\" d=\"M278.9358,-165.5444C315.3533,-169.4705 381.2168,-176.5712 434.9674,-182.366\"/>\n<polygon fill=\"#0000ff\" stroke=\"#0000ff\" points=\"434.8803,-185.8768 445.1978,-183.4689 435.6306,-178.9171 434.8803,-185.8768\"/>\n<text text-anchor=\"middle\" x=\"361.9899\" y=\"-185.7772\" font-family=\"Arial\" font-size=\"16.00\" fill=\"#000000\">p = 1</text>\n</g>\n<!-- s1&#45;a0 -->\n<g id=\"node5\" class=\"node\">\n<title>s1&#45;a0</title>\n<ellipse fill=\"#ffb6c1\" stroke=\"#ffb6c1\" cx=\"709.4026\" cy=\"-257.5772\" rx=\"27.6545\" ry=\"27.6545\"/>\n<text text-anchor=\"middle\" x=\"709.4026\" y=\"-252.5772\" font-family=\"Arial\" font-size=\"20.00\" fill=\"#000000\">a0</text>\n</g>\n<!-- s1&#45;&gt;s1&#45;a0 -->\n<g id=\"edge5\" class=\"edge\">\n<title>s1&#45;&gt;s1&#45;a0</title>\n<path fill=\"none\" stroke=\"#ff0000\" stroke-width=\"2\" d=\"M584.6023,-231.2212C594.1515,-235.9548 604.0686,-240.2713 613.8255,-243.5772 632.2812,-249.8304 653.6735,-253.2913 671.5345,-255.2064\"/>\n<polygon fill=\"#ff0000\" stroke=\"#ff0000\" stroke-width=\"2\" points=\"671.3069,-258.7005 681.5939,-256.1648 671.9709,-251.7321 671.3069,-258.7005\"/>\n</g>\n<!-- s1&#45;a1 -->\n<g id=\"node6\" class=\"node\">\n<title>s1&#45;a1</title>\n<ellipse fill=\"#ffb6c1\" stroke=\"#ffb6c1\" cx=\"709.4026\" cy=\"-178.5772\" rx=\"27.6545\" ry=\"27.6545\"/>\n<text text-anchor=\"middle\" x=\"709.4026\" y=\"-173.5772\" font-family=\"Arial\" font-size=\"20.00\" fill=\"#000000\">a1</text>\n</g>\n<!-- s1&#45;&gt;s1&#45;a1 -->\n<g id=\"edge8\" class=\"edge\">\n<title>s1&#45;&gt;s1&#45;a1</title>\n<path fill=\"none\" stroke=\"#ff0000\" stroke-width=\"2\" d=\"M595.9183,-186.3832C621.8957,-184.5963 649.8698,-182.6721 671.5442,-181.1813\"/>\n<polygon fill=\"#ff0000\" stroke=\"#ff0000\" stroke-width=\"2\" points=\"671.9057,-184.6648 681.6419,-180.4867 671.4253,-177.6813 671.9057,-184.6648\"/>\n</g>\n<!-- s1&#45;a2 -->\n<g id=\"node7\" class=\"node\">\n<title>s1&#45;a2</title>\n<ellipse fill=\"#ffb6c1\" stroke=\"#ffb6c1\" cx=\"709.4026\" cy=\"-94.5772\" rx=\"27.6545\" ry=\"27.6545\"/>\n<text text-anchor=\"middle\" x=\"709.4026\" y=\"-89.5772\" font-family=\"Arial\" font-size=\"20.00\" fill=\"#000000\">a2</text>\n</g>\n<!-- s1&#45;&gt;s1&#45;a2 -->\n<g id=\"edge10\" class=\"edge\">\n<title>s1&#45;&gt;s1&#45;a2</title>\n<path fill=\"none\" stroke=\"#ff0000\" stroke-width=\"2\" d=\"M587.5724,-157.1055C617.358,-141.8183 651.1075,-124.4966 675.5193,-111.9675\"/>\n<polygon fill=\"#ff0000\" stroke=\"#ff0000\" stroke-width=\"2\" points=\"677.4176,-114.9273 684.7161,-107.2473 674.2212,-108.6997 677.4176,-114.9273\"/>\n</g>\n<!-- s0&#45;a1&#45;&gt;s0 -->\n<g id=\"edge4\" class=\"edge\">\n<title>s0&#45;a1&#45;&gt;s0</title>\n<path fill=\"none\" stroke=\"#0000ff\" stroke-dasharray=\"5,2\" d=\"M225.0296,-36.7216C206.6381,-43.0961 181.0387,-51.9689 156.2096,-60.5746\"/>\n<polygon fill=\"#0000ff\" stroke=\"#0000ff\" points=\"155.0503,-57.2721 146.748,-63.8541 157.3427,-63.8861 155.0503,-57.2721\"/>\n<text text-anchor=\"middle\" x=\"187.3356\" y=\"-59.7772\" font-family=\"Arial\" font-size=\"16.00\" fill=\"#000000\">p = 1</text>\n</g>\n<!-- s1&#45;a0&#45;&gt;s0 -->\n<g id=\"edge6\" class=\"edge\">\n<title>s1&#45;a0&#45;&gt;s0</title>\n<path fill=\"none\" stroke=\"#0000ff\" stroke-dasharray=\"5,2\" d=\"M682.1741,-263.5746C634.0073,-273.2653 530.7628,-289.904 444.9899,-275.5772 342.4773,-258.4543 315.7057,-248.1765 223.8356,-199.5772 194.835,-184.2359 165.3909,-163.5061 140.4573,-144.1141\"/>\n<polygon fill=\"#0000ff\" stroke=\"#0000ff\" points=\"142.5498,-141.307 132.5267,-137.8735 138.221,-146.808 142.5498,-141.307\"/>\n<text text-anchor=\"middle\" x=\"361.9899\" y=\"-276.7772\" font-family=\"Arial\" font-size=\"16.00\" fill=\"#000000\">p = 0.5</text>\n</g>\n<!-- s1&#45;a0&#45;&gt;s1 -->\n<g id=\"edge7\" class=\"edge\">\n<title>s1&#45;a0&#45;&gt;s1</title>\n<path fill=\"none\" stroke=\"#0000ff\" stroke-dasharray=\"5,2\" d=\"M689.4314,-238.5229C681.9123,-232.2755 672.9596,-225.848 663.8255,-221.5772 645.6896,-213.0974 625.1497,-206.9961 605.398,-202.6123\"/>\n<polygon fill=\"#0000ff\" stroke=\"#0000ff\" points=\"605.9748,-199.1572 595.4698,-200.5342 604.5406,-206.0087 605.9748,-199.1572\"/>\n<text text-anchor=\"middle\" x=\"638.8255\" y=\"-226.7772\" font-family=\"Arial\" font-size=\"16.00\" fill=\"#000000\">p = 0.5</text>\n</g>\n<!-- s1&#45;a1&#45;&gt;s1 -->\n<g id=\"edge9\" class=\"edge\">\n<title>s1&#45;a1&#45;&gt;s1</title>\n<path fill=\"none\" stroke=\"#0000ff\" stroke-dasharray=\"5,2\" d=\"M684.4116,-166.0881C677.8719,-163.4015 670.7185,-160.9564 663.8255,-159.5772 643.2953,-155.4692 621.1886,-157.284 600.6263,-161.6463\"/>\n<polygon fill=\"#0000ff\" stroke=\"#0000ff\" points=\"599.6085,-158.2898 590.6698,-163.9776 601.2044,-165.1055 599.6085,-158.2898\"/>\n<text text-anchor=\"middle\" x=\"638.8255\" y=\"-164.7772\" font-family=\"Arial\" font-size=\"16.00\" fill=\"#000000\">p = 1</text>\n</g>\n<!-- s1&#45;a2&#45;&gt;s0 -->\n<g id=\"edge11\" class=\"edge\">\n<title>s1&#45;a2&#45;&gt;s0</title>\n<path fill=\"none\" stroke=\"#0000ff\" stroke-dasharray=\"5,2\" d=\"M681.5608,-94.3137C591.5379,-93.4617 305.7963,-90.7575 161.1159,-89.3882\"/>\n<polygon fill=\"#0000ff\" stroke=\"#0000ff\" points=\"160.9801,-85.8869 150.9474,-89.292 160.9138,-92.8865 160.9801,-85.8869\"/>\n<text text-anchor=\"middle\" x=\"361.9899\" y=\"-96.7772\" font-family=\"Arial\" font-size=\"16.00\" fill=\"#000000\">p = 1 &#160;reward =0.5</text>\n</g>\n</g>\n</svg>\n"
          },
          "metadata": {
            "tags": []
          }
        }
      ]
    },
    {
      "cell_type": "code",
      "metadata": {
        "colab": {
          "base_uri": "https://localhost:8080/",
          "height": 418
        },
        "id": "xLugDv9MHTO5",
        "outputId": "5c46c9a4-dfa4-4839-8d19-febd8ae1d354"
      },
      "source": [
        "if has_graphviz:\n",
        "    from mdp import plot_graph_optimal_strategy_and_state_values\n",
        "    display(plot_graph_optimal_strategy_and_state_values(mdp, state_values, get_action_value))"
      ],
      "execution_count": 29,
      "outputs": [
        {
          "output_type": "display_data",
          "data": {
            "text/plain": [
              "<graphviz.dot.Digraph at 0x7f582aef3090>"
            ],
            "image/svg+xml": "<?xml version=\"1.0\" encoding=\"UTF-8\" standalone=\"no\"?>\n<!DOCTYPE svg PUBLIC \"-//W3C//DTD SVG 1.1//EN\"\n \"http://www.w3.org/Graphics/SVG/1.1/DTD/svg11.dtd\">\n<!-- Generated by graphviz version 2.40.1 (20161225.0304)\n -->\n<!-- Title: MDP Pages: 1 -->\n<svg width=\"720pt\" height=\"298pt\"\n viewBox=\"0.00 0.00 720.00 298.41\" xmlns=\"http://www.w3.org/2000/svg\" xmlns:xlink=\"http://www.w3.org/1999/xlink\">\n<g id=\"graph0\" class=\"graph\" transform=\"scale(.9665 .9665) rotate(0) translate(4 304.7629)\">\n<title>MDP</title>\n<polygon fill=\"#ffffff\" stroke=\"transparent\" points=\"-4,4 -4,-304.7629 740.9798,-304.7629 740.9798,4 -4,4\"/>\n<!-- s0 -->\n<g id=\"node1\" class=\"node\">\n<title>s0</title>\n<ellipse fill=\"#85ff75\" stroke=\"#85ff75\" cx=\"75.4178\" cy=\"-107.5772\" rx=\"71.34\" ry=\"71.34\"/>\n<ellipse fill=\"none\" stroke=\"#85ff75\" cx=\"75.4178\" cy=\"-107.5772\" rx=\"75.3357\" ry=\"75.3357\"/>\n<text text-anchor=\"middle\" x=\"75.4178\" y=\"-114.3772\" font-family=\"Arial\" font-size=\"24.00\" fill=\"#000000\">s0</text>\n<text text-anchor=\"middle\" x=\"75.4178\" y=\"-88.3772\" font-family=\"Arial\" font-size=\"24.00\" fill=\"#000000\">V =10.7</text>\n</g>\n<!-- s0&#45;a0 -->\n<g id=\"node2\" class=\"node\">\n<title>s0&#45;a0</title>\n<ellipse fill=\"#ffb6c1\" stroke=\"#ffb6c1\" cx=\"251.4127\" cy=\"-268.5772\" rx=\"27.6545\" ry=\"27.6545\"/>\n<text text-anchor=\"middle\" x=\"251.4127\" y=\"-263.5772\" font-family=\"Arial\" font-size=\"20.00\" fill=\"#000000\">a0</text>\n</g>\n<!-- s0&#45;&gt;s0&#45;a0 -->\n<g id=\"edge1\" class=\"edge\">\n<title>s0&#45;&gt;s0&#45;a0</title>\n<path fill=\"none\" stroke=\"#ff0000\" stroke-width=\"2\" d=\"M121.2042,-167.6799C135.1155,-185.1006 151.3843,-203.2359 168.8356,-217.5772 183.8978,-229.9551 203.2091,-240.0273 219.3691,-248.1576\"/>\n<polygon fill=\"#ff0000\" stroke=\"#ff0000\" stroke-width=\"2\" points=\"217.9564,-251.3646 228.4638,-252.723 221.0968,-245.1086 217.9564,-251.3646\"/>\n</g>\n<!-- s0&#45;&gt;s0&#45;a0 -->\n<g id=\"edge12\" class=\"edge\">\n<title>s0&#45;&gt;s0&#45;a0</title>\n<path fill=\"none\" stroke=\"#00ff00\" stroke-width=\"6\" d=\"M112.5655,-173.3573C128.1708,-195.1226 147.6302,-218.1509 168.8356,-235.5772 182.2911,-246.6347 199.1375,-255.8522 214.0991,-262.127\"/>\n<polygon fill=\"#00ff00\" stroke=\"#00ff00\" stroke-width=\"6\" points=\"212.3822,-267.0921 223.6042,-265.8152 216.1806,-257.3032 212.3822,-267.0921\"/>\n</g>\n<!-- s0&#45;a1 -->\n<g id=\"node4\" class=\"node\">\n<title>s0&#45;a1</title>\n<ellipse fill=\"#ffb6c1\" stroke=\"#ffb6c1\" cx=\"251.4127\" cy=\"-27.5772\" rx=\"27.6545\" ry=\"27.6545\"/>\n<text text-anchor=\"middle\" x=\"251.4127\" y=\"-22.5772\" font-family=\"Arial\" font-size=\"20.00\" fill=\"#000000\">a1</text>\n</g>\n<!-- s0&#45;&gt;s0&#45;a1 -->\n<g id=\"edge3\" class=\"edge\">\n<title>s0&#45;&gt;s0&#45;a1</title>\n<path fill=\"none\" stroke=\"#ff0000\" stroke-width=\"2\" d=\"M144.2182,-76.3034C169.0202,-65.0294 195.9609,-52.7833 216.6296,-43.3881\"/>\n<polygon fill=\"#ff0000\" stroke=\"#ff0000\" stroke-width=\"2\" points=\"218.289,-46.4785 225.9442,-39.1541 215.3922,-40.106 218.289,-46.4785\"/>\n</g>\n<!-- s1 -->\n<g id=\"node3\" class=\"node\">\n<title>s1</title>\n<ellipse fill=\"#85ff75\" stroke=\"#85ff75\" cx=\"520.4077\" cy=\"-187.5772\" rx=\"71.34\" ry=\"71.34\"/>\n<ellipse fill=\"none\" stroke=\"#85ff75\" cx=\"520.4077\" cy=\"-187.5772\" rx=\"75.3357\" ry=\"75.3357\"/>\n<text text-anchor=\"middle\" x=\"520.4077\" y=\"-194.3772\" font-family=\"Arial\" font-size=\"24.00\" fill=\"#000000\">s1</text>\n<text text-anchor=\"middle\" x=\"520.4077\" y=\"-168.3772\" font-family=\"Arial\" font-size=\"24.00\" fill=\"#000000\">V =10.9</text>\n</g>\n<!-- s0&#45;a0&#45;&gt;s1 -->\n<g id=\"edge2\" class=\"edge\">\n<title>s0&#45;a0&#45;&gt;s1</title>\n<path fill=\"none\" stroke=\"#0000ff\" stroke-dasharray=\"5,2\" d=\"M279.1834,-266.6733C314.4,-263.6219 376.6023,-256.0884 426.9899,-238.5772 433.381,-236.3561 439.8551,-233.7269 446.2576,-230.8519\"/>\n<polygon fill=\"#0000ff\" stroke=\"#0000ff\" points=\"448.0028,-233.8992 455.5688,-226.4827 445.0291,-227.5622 448.0028,-233.8992\"/>\n<text text-anchor=\"middle\" x=\"361.9899\" y=\"-269.7772\" font-family=\"Arial\" font-size=\"16.00\" fill=\"#000000\">p = 1</text>\n</g>\n<!-- s1&#45;a0 -->\n<g id=\"node5\" class=\"node\">\n<title>s1&#45;a0</title>\n<ellipse fill=\"#ffb6c1\" stroke=\"#ffb6c1\" cx=\"709.4026\" cy=\"-264.5772\" rx=\"27.6545\" ry=\"27.6545\"/>\n<text text-anchor=\"middle\" x=\"709.4026\" y=\"-259.5772\" font-family=\"Arial\" font-size=\"20.00\" fill=\"#000000\">a0</text>\n</g>\n<!-- s1&#45;&gt;s1&#45;a0 -->\n<g id=\"edge5\" class=\"edge\">\n<title>s1&#45;&gt;s1&#45;a0</title>\n<path fill=\"none\" stroke=\"#ff0000\" stroke-width=\"2\" d=\"M580.2981,-233.5797C591.0215,-240.1491 602.424,-246.163 613.8255,-250.5772 632.1282,-257.6632 653.6712,-261.1963 671.6668,-262.944\"/>\n<polygon fill=\"#ff0000\" stroke=\"#ff0000\" stroke-width=\"2\" points=\"671.5472,-266.4459 681.8011,-263.7801 672.1228,-259.4696 671.5472,-266.4459\"/>\n</g>\n<!-- s1&#45;a1 -->\n<g id=\"node6\" class=\"node\">\n<title>s1&#45;a1</title>\n<ellipse fill=\"#ffb6c1\" stroke=\"#ffb6c1\" cx=\"709.4026\" cy=\"-191.5772\" rx=\"27.6545\" ry=\"27.6545\"/>\n<text text-anchor=\"middle\" x=\"709.4026\" y=\"-186.5772\" font-family=\"Arial\" font-size=\"20.00\" fill=\"#000000\">a1</text>\n</g>\n<!-- s1&#45;&gt;s1&#45;a1 -->\n<g id=\"edge8\" class=\"edge\">\n<title>s1&#45;&gt;s1&#45;a1</title>\n<path fill=\"none\" stroke=\"#ff0000\" stroke-width=\"2\" d=\"M595.9183,-189.1753C621.8957,-189.7251 649.8698,-190.3172 671.5442,-190.7759\"/>\n<polygon fill=\"#ff0000\" stroke=\"#ff0000\" stroke-width=\"2\" points=\"671.57,-194.2771 681.6419,-190.9896 671.7182,-187.2787 671.57,-194.2771\"/>\n</g>\n<!-- s1&#45;a2 -->\n<g id=\"node7\" class=\"node\">\n<title>s1&#45;a2</title>\n<ellipse fill=\"#ffb6c1\" stroke=\"#ffb6c1\" cx=\"709.4026\" cy=\"-118.5772\" rx=\"27.6545\" ry=\"27.6545\"/>\n<text text-anchor=\"middle\" x=\"709.4026\" y=\"-113.5772\" font-family=\"Arial\" font-size=\"20.00\" fill=\"#000000\">a2</text>\n</g>\n<!-- s1&#45;&gt;s1&#45;a2 -->\n<g id=\"edge10\" class=\"edge\">\n<title>s1&#45;&gt;s1&#45;a2</title>\n<path fill=\"none\" stroke=\"#ff0000\" stroke-width=\"2\" d=\"M589.1738,-155.9489C617.2484,-145.1912 648.603,-134.0867 672.2518,-126.6463\"/>\n<polygon fill=\"#ff0000\" stroke=\"#ff0000\" stroke-width=\"2\" points=\"673.3483,-129.971 681.8832,-123.6935 671.2965,-123.2784 673.3483,-129.971\"/>\n</g>\n<!-- s1&#45;&gt;s1&#45;a2 -->\n<g id=\"edge13\" class=\"edge\">\n<title>s1&#45;&gt;s1&#45;a2</title>\n<path fill=\"none\" stroke=\"#00ff00\" stroke-width=\"6\" d=\"M593.2077,-167.588C621.5958,-157.6511 652.7455,-145.8537 675.6409,-136.2176\"/>\n<polygon fill=\"#00ff00\" stroke=\"#00ff00\" stroke-width=\"6\" points=\"677.8011,-141.0036 684.9158,-132.2318 673.6554,-131.3566 677.8011,-141.0036\"/>\n</g>\n<!-- s0&#45;a1&#45;&gt;s0 -->\n<g id=\"edge4\" class=\"edge\">\n<title>s0&#45;a1&#45;&gt;s0</title>\n<path fill=\"none\" stroke=\"#0000ff\" stroke-dasharray=\"5,2\" d=\"M224.175,-22.9195C207.6615,-21.2179 186.451,-21.0653 168.8356,-27.5772 156.9831,-31.9587 145.6182,-38.5896 135.149,-46.1959\"/>\n<polygon fill=\"#0000ff\" stroke=\"#0000ff\" points=\"132.7586,-43.6183 126.9527,-52.4807 137.018,-49.1732 132.7586,-43.6183\"/>\n<text text-anchor=\"middle\" x=\"187.3356\" y=\"-32.7772\" font-family=\"Arial\" font-size=\"16.00\" fill=\"#000000\">p = 1</text>\n</g>\n<!-- s1&#45;a0&#45;&gt;s0 -->\n<g id=\"edge6\" class=\"edge\">\n<title>s1&#45;a0&#45;&gt;s0</title>\n<path fill=\"none\" stroke=\"#0000ff\" stroke-dasharray=\"5,2\" d=\"M683.4751,-274.6713C632.3653,-292.7236 517.3042,-323.9992 444.9899,-271.5772 424.1657,-256.4813 445.3186,-234.6213 426.9899,-216.5772 388.9291,-179.1073 250.6754,-144.0968 159.3016,-124.3097\"/>\n<polygon fill=\"#0000ff\" stroke=\"#0000ff\" points=\"160.0189,-120.8841 149.5072,-122.208 158.5502,-127.7283 160.0189,-120.8841\"/>\n<text text-anchor=\"middle\" x=\"361.9899\" y=\"-221.7772\" font-family=\"Arial\" font-size=\"16.00\" fill=\"#000000\">p = 0.5</text>\n</g>\n<!-- s1&#45;a0&#45;&gt;s1 -->\n<g id=\"edge7\" class=\"edge\">\n<title>s1&#45;a0&#45;&gt;s1</title>\n<path fill=\"none\" stroke=\"#0000ff\" stroke-dasharray=\"5,2\" d=\"M688.7991,-245.5142C681.3603,-239.4149 672.62,-233.0832 663.8255,-228.5772 645.3066,-219.0887 624.2839,-211.5174 604.1535,-205.5946\"/>\n<polygon fill=\"#0000ff\" stroke=\"#0000ff\" points=\"604.9333,-202.1778 594.3579,-202.8183 603.0245,-208.9125 604.9333,-202.1778\"/>\n<text text-anchor=\"middle\" x=\"638.8255\" y=\"-233.7772\" font-family=\"Arial\" font-size=\"16.00\" fill=\"#000000\">p = 0.5</text>\n</g>\n<!-- s1&#45;a1&#45;&gt;s1 -->\n<g id=\"edge9\" class=\"edge\">\n<title>s1&#45;a1&#45;&gt;s1</title>\n<path fill=\"none\" stroke=\"#0000ff\" stroke-dasharray=\"5,2\" d=\"M686.15,-176.5752C679.2381,-172.8918 671.4651,-169.4657 663.8255,-167.5772 644.409,-162.7774 623.2094,-162.8926 603.2101,-165.3314\"/>\n<polygon fill=\"#0000ff\" stroke=\"#0000ff\" points=\"602.5994,-161.8829 593.1907,-166.7539 603.5835,-168.8134 602.5994,-161.8829\"/>\n<text text-anchor=\"middle\" x=\"638.8255\" y=\"-172.7772\" font-family=\"Arial\" font-size=\"16.00\" fill=\"#000000\">p = 1</text>\n</g>\n<!-- s1&#45;a2&#45;&gt;s0 -->\n<g id=\"edge11\" class=\"edge\">\n<title>s1&#45;a2&#45;&gt;s0</title>\n<path fill=\"none\" stroke=\"#0000ff\" stroke-dasharray=\"5,2\" d=\"M681.9622,-113.9253C659.0208,-110.2839 625.3969,-105.5215 595.8255,-103.5772 442.9179,-93.5237 264.1992,-98.5469 160.9835,-103.0826\"/>\n<polygon fill=\"#0000ff\" stroke=\"#0000ff\" points=\"160.7604,-99.589 150.9273,-103.5335 161.0741,-106.582 160.7604,-99.589\"/>\n<text text-anchor=\"middle\" x=\"361.9899\" y=\"-103.7772\" font-family=\"Arial\" font-size=\"16.00\" fill=\"#000000\">p = 1 &#160;reward =0.5</text>\n</g>\n</g>\n</svg>\n"
          },
          "metadata": {
            "tags": []
          }
        }
      ]
    }
  ]
}